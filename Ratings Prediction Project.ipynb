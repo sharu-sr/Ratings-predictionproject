{
 "cells": [
  {
   "cell_type": "markdown",
   "id": "dae7efc0",
   "metadata": {},
   "source": [
    "# Ratings Prediction Project"
   ]
  },
  {
   "cell_type": "code",
   "execution_count": 1,
   "id": "622931ef",
   "metadata": {},
   "outputs": [],
   "source": [
    "import pandas as pd\n",
    "import numpy as np\n",
    "import seaborn as sns\n",
    "import matplotlib.pyplot as plt"
   ]
  },
  {
   "cell_type": "code",
   "execution_count": 2,
   "id": "8d5b5be5",
   "metadata": {},
   "outputs": [],
   "source": [
    "df=pd.read_csv(\"ratings_prediction_project.csv\")"
   ]
  },
  {
   "cell_type": "code",
   "execution_count": 3,
   "id": "742d8548",
   "metadata": {},
   "outputs": [
    {
     "data": {
      "text/html": [
       "<div>\n",
       "<style scoped>\n",
       "    .dataframe tbody tr th:only-of-type {\n",
       "        vertical-align: middle;\n",
       "    }\n",
       "\n",
       "    .dataframe tbody tr th {\n",
       "        vertical-align: top;\n",
       "    }\n",
       "\n",
       "    .dataframe thead th {\n",
       "        text-align: right;\n",
       "    }\n",
       "</style>\n",
       "<table border=\"1\" class=\"dataframe\">\n",
       "  <thead>\n",
       "    <tr style=\"text-align: right;\">\n",
       "      <th></th>\n",
       "      <th>Unnamed: 0</th>\n",
       "      <th>Review_title</th>\n",
       "      <th>Review_text</th>\n",
       "      <th>Ratings</th>\n",
       "    </tr>\n",
       "  </thead>\n",
       "  <tbody>\n",
       "    <tr>\n",
       "      <th>0</th>\n",
       "      <td>0</td>\n",
       "      <td>Suitable for School kids</td>\n",
       "      <td>\\n  If you are a College student or a professi...</td>\n",
       "      <td>2.0 out of 5 stars</td>\n",
       "    </tr>\n",
       "    <tr>\n",
       "      <th>1</th>\n",
       "      <td>1</td>\n",
       "      <td>Misrepresentation on MS Office 2019 license - ...</td>\n",
       "      <td>\\n  Update after one month usage - MS Office 2...</td>\n",
       "      <td>2.0 out of 5 stars</td>\n",
       "    </tr>\n",
       "    <tr>\n",
       "      <th>2</th>\n",
       "      <td>2</td>\n",
       "      <td>The sold me renewed laptop</td>\n",
       "      <td>\\n  It’s look like renewed laptop because lapt...</td>\n",
       "      <td>2.0 out of 5 stars</td>\n",
       "    </tr>\n",
       "    <tr>\n",
       "      <th>3</th>\n",
       "      <td>3</td>\n",
       "      <td>Amazon dupes with specification/ battery sucks</td>\n",
       "      <td>\\n  &amp;nbsp;I had seen the specifications and bo...</td>\n",
       "      <td>2.0 out of 5 stars</td>\n",
       "    </tr>\n",
       "    <tr>\n",
       "      <th>4</th>\n",
       "      <td>4</td>\n",
       "      <td>Display back light issue</td>\n",
       "      <td>\\n  Display gone with 2 months.. But anyway th...</td>\n",
       "      <td>2.0 out of 5 stars</td>\n",
       "    </tr>\n",
       "  </tbody>\n",
       "</table>\n",
       "</div>"
      ],
      "text/plain": [
       "   Unnamed: 0                                       Review_title  \\\n",
       "0           0                           Suitable for School kids   \n",
       "1           1  Misrepresentation on MS Office 2019 license - ...   \n",
       "2           2                         The sold me renewed laptop   \n",
       "3           3     Amazon dupes with specification/ battery sucks   \n",
       "4           4                           Display back light issue   \n",
       "\n",
       "                                         Review_text             Ratings  \n",
       "0  \\n  If you are a College student or a professi...  2.0 out of 5 stars  \n",
       "1  \\n  Update after one month usage - MS Office 2...  2.0 out of 5 stars  \n",
       "2  \\n  It’s look like renewed laptop because lapt...  2.0 out of 5 stars  \n",
       "3  \\n  &nbsp;I had seen the specifications and bo...  2.0 out of 5 stars  \n",
       "4  \\n  Display gone with 2 months.. But anyway th...  2.0 out of 5 stars  "
      ]
     },
     "execution_count": 3,
     "metadata": {},
     "output_type": "execute_result"
    }
   ],
   "source": [
    "df.head()"
   ]
  },
  {
   "cell_type": "code",
   "execution_count": 4,
   "id": "a4692397",
   "metadata": {},
   "outputs": [
    {
     "data": {
      "text/plain": [
       "(77550, 4)"
      ]
     },
     "execution_count": 4,
     "metadata": {},
     "output_type": "execute_result"
    }
   ],
   "source": [
    "df.shape"
   ]
  },
  {
   "cell_type": "markdown",
   "id": "53f7f37c",
   "metadata": {},
   "source": [
    "There are 77550 rows and 4 columns."
   ]
  },
  {
   "cell_type": "markdown",
   "id": "96be3aa6",
   "metadata": {},
   "source": [
    "Column Information:"
   ]
  },
  {
   "cell_type": "markdown",
   "id": "37711767",
   "metadata": {},
   "source": [
    "Review_title : title of the review\n",
    "Review_text : content of the review text\n",
    "Ratings : ratings are out of 5 stars\n",
    "First I will drop the unwanted column \"Unnamed: 0\" from our dataset as it holds meaning less index information."
   ]
  },
  {
   "cell_type": "markdown",
   "id": "2ffa2a6d",
   "metadata": {},
   "source": [
    "# EDA"
   ]
  },
  {
   "cell_type": "code",
   "execution_count": 5,
   "id": "0bb0617b",
   "metadata": {},
   "outputs": [],
   "source": [
    "df.drop(columns = 'Unnamed: 0', inplace = True)"
   ]
  },
  {
   "cell_type": "code",
   "execution_count": 6,
   "id": "cfa41087",
   "metadata": {},
   "outputs": [
    {
     "data": {
      "text/html": [
       "<div>\n",
       "<style scoped>\n",
       "    .dataframe tbody tr th:only-of-type {\n",
       "        vertical-align: middle;\n",
       "    }\n",
       "\n",
       "    .dataframe tbody tr th {\n",
       "        vertical-align: top;\n",
       "    }\n",
       "\n",
       "    .dataframe thead th {\n",
       "        text-align: right;\n",
       "    }\n",
       "</style>\n",
       "<table border=\"1\" class=\"dataframe\">\n",
       "  <thead>\n",
       "    <tr style=\"text-align: right;\">\n",
       "      <th></th>\n",
       "      <th>Review_title</th>\n",
       "      <th>Review_text</th>\n",
       "      <th>Ratings</th>\n",
       "    </tr>\n",
       "  </thead>\n",
       "  <tbody>\n",
       "    <tr>\n",
       "      <th>0</th>\n",
       "      <td>Suitable for School kids</td>\n",
       "      <td>\\n  If you are a College student or a professi...</td>\n",
       "      <td>2.0 out of 5 stars</td>\n",
       "    </tr>\n",
       "    <tr>\n",
       "      <th>1</th>\n",
       "      <td>Misrepresentation on MS Office 2019 license - ...</td>\n",
       "      <td>\\n  Update after one month usage - MS Office 2...</td>\n",
       "      <td>2.0 out of 5 stars</td>\n",
       "    </tr>\n",
       "    <tr>\n",
       "      <th>2</th>\n",
       "      <td>The sold me renewed laptop</td>\n",
       "      <td>\\n  It’s look like renewed laptop because lapt...</td>\n",
       "      <td>2.0 out of 5 stars</td>\n",
       "    </tr>\n",
       "    <tr>\n",
       "      <th>3</th>\n",
       "      <td>Amazon dupes with specification/ battery sucks</td>\n",
       "      <td>\\n  &amp;nbsp;I had seen the specifications and bo...</td>\n",
       "      <td>2.0 out of 5 stars</td>\n",
       "    </tr>\n",
       "    <tr>\n",
       "      <th>4</th>\n",
       "      <td>Display back light issue</td>\n",
       "      <td>\\n  Display gone with 2 months.. But anyway th...</td>\n",
       "      <td>2.0 out of 5 stars</td>\n",
       "    </tr>\n",
       "    <tr>\n",
       "      <th>...</th>\n",
       "      <td>...</td>\n",
       "      <td>...</td>\n",
       "      <td>...</td>\n",
       "    </tr>\n",
       "    <tr>\n",
       "      <th>77545</th>\n",
       "      <td>Nice product</td>\n",
       "      <td>good product</td>\n",
       "      <td>4</td>\n",
       "    </tr>\n",
       "    <tr>\n",
       "      <th>77546</th>\n",
       "      <td>Awesome</td>\n",
       "      <td>Very good as expected and happy with the purchase</td>\n",
       "      <td>5</td>\n",
       "    </tr>\n",
       "    <tr>\n",
       "      <th>77547</th>\n",
       "      <td>Awesome</td>\n",
       "      <td>I love it! No complaint!</td>\n",
       "      <td>5</td>\n",
       "    </tr>\n",
       "    <tr>\n",
       "      <th>77548</th>\n",
       "      <td>Nice product</td>\n",
       "      <td>good product</td>\n",
       "      <td>4</td>\n",
       "    </tr>\n",
       "    <tr>\n",
       "      <th>77549</th>\n",
       "      <td>Awesome</td>\n",
       "      <td>Very good as expected and happy with the purchase</td>\n",
       "      <td>5</td>\n",
       "    </tr>\n",
       "  </tbody>\n",
       "</table>\n",
       "<p>77550 rows × 3 columns</p>\n",
       "</div>"
      ],
      "text/plain": [
       "                                            Review_title  \\\n",
       "0                               Suitable for School kids   \n",
       "1      Misrepresentation on MS Office 2019 license - ...   \n",
       "2                             The sold me renewed laptop   \n",
       "3         Amazon dupes with specification/ battery sucks   \n",
       "4                               Display back light issue   \n",
       "...                                                  ...   \n",
       "77545                                       Nice product   \n",
       "77546                                            Awesome   \n",
       "77547                                            Awesome   \n",
       "77548                                       Nice product   \n",
       "77549                                            Awesome   \n",
       "\n",
       "                                             Review_text             Ratings  \n",
       "0      \\n  If you are a College student or a professi...  2.0 out of 5 stars  \n",
       "1      \\n  Update after one month usage - MS Office 2...  2.0 out of 5 stars  \n",
       "2      \\n  It’s look like renewed laptop because lapt...  2.0 out of 5 stars  \n",
       "3      \\n  &nbsp;I had seen the specifications and bo...  2.0 out of 5 stars  \n",
       "4      \\n  Display gone with 2 months.. But anyway th...  2.0 out of 5 stars  \n",
       "...                                                  ...                 ...  \n",
       "77545                                       good product                   4  \n",
       "77546  Very good as expected and happy with the purchase                   5  \n",
       "77547                           I love it! No complaint!                   5  \n",
       "77548                                       good product                   4  \n",
       "77549  Very good as expected and happy with the purchase                   5  \n",
       "\n",
       "[77550 rows x 3 columns]"
      ]
     },
     "execution_count": 6,
     "metadata": {},
     "output_type": "execute_result"
    }
   ],
   "source": [
    "df"
   ]
  },
  {
   "cell_type": "markdown",
   "id": "3edfa1c6",
   "metadata": {},
   "source": [
    "So now there are 77550 rows and 3 columns"
   ]
  },
  {
   "cell_type": "markdown",
   "id": "31c9b8ee",
   "metadata": {},
   "source": [
    "# Missing values"
   ]
  },
  {
   "cell_type": "code",
   "execution_count": 7,
   "id": "c913a52e",
   "metadata": {},
   "outputs": [
    {
     "data": {
      "text/plain": [
       "Review_title    9029\n",
       "Review_text     8085\n",
       "Ratings         9027\n",
       "dtype: int64"
      ]
     },
     "execution_count": 7,
     "metadata": {},
     "output_type": "execute_result"
    }
   ],
   "source": [
    "df.isnull().sum()"
   ]
  },
  {
   "cell_type": "markdown",
   "id": "458886c9",
   "metadata": {},
   "source": [
    "There are 9029 missing values in \"Review_title\",8085 missing values in\"Review_text \"and 9027 missing values in\"Ratings\"column.All these missing values have to be treated."
   ]
  },
  {
   "cell_type": "markdown",
   "id": "cb113c4a",
   "metadata": {},
   "source": [
    "# Graphical representation of missing values"
   ]
  },
  {
   "cell_type": "code",
   "execution_count": 8,
   "id": "667faf28",
   "metadata": {},
   "outputs": [
    {
     "data": {
      "text/plain": [
       "<AxesSubplot:>"
      ]
     },
     "execution_count": 8,
     "metadata": {},
     "output_type": "execute_result"
    },
    {
     "data": {
      "image/png": "[encoded data removed]",
      "text/plain": [
       "<Figure size 432x288 with 2 Axes>"
      ]
     },
     "metadata": {
      "needs_background": "light"
     },
     "output_type": "display_data"
    }
   ],
   "source": [
    "sns.heatmap(df.isnull())"
   ]
  },
  {
   "cell_type": "markdown",
   "id": "7b7f3273",
   "metadata": {},
   "source": [
    "The heat map also shows the presence of missing values."
   ]
  },
  {
   "cell_type": "markdown",
   "id": "17423ffe",
   "metadata": {},
   "source": [
    "We can see that the above white lines represent the NaN values present in our dataframe that will need to be removed."
   ]
  },
  {
   "cell_type": "code",
   "execution_count": 9,
   "id": "1bbaa663",
   "metadata": {},
   "outputs": [
    {
     "name": "stdout",
     "output_type": "stream",
     "text": [
      "We have 77550 Rows and 3 Columns in our dataframe before removing NaN\n",
      "We have 68294 Rows and 3 Columns in our dataframe after removing NaN\n"
     ]
    }
   ],
   "source": [
    "print(\"We have {} Rows and {} Columns in our dataframe before removing NaN\".format(df.shape[0], df.shape[1]))\n",
    "df.dropna(inplace=True)\n",
    "print(\"We have {} Rows and {} Columns in our dataframe after removing NaN\".format(df.shape[0], df.shape[1]))"
   ]
  },
  {
   "cell_type": "code",
   "execution_count": 10,
   "id": "b8367783",
   "metadata": {},
   "outputs": [
    {
     "data": {
      "text/plain": [
       "Review_title    0\n",
       "Review_text     0\n",
       "Ratings         0\n",
       "dtype: int64"
      ]
     },
     "execution_count": 10,
     "metadata": {},
     "output_type": "execute_result"
    }
   ],
   "source": [
    "df.isnull().sum()"
   ]
  },
  {
   "cell_type": "markdown",
   "id": "a27d979e",
   "metadata": {},
   "source": [
    "Great looks like we were able to successfully remove all the missing data and the new dataframe has 68294 Rows and 3 Columns in it."
   ]
  },
  {
   "cell_type": "code",
   "execution_count": 11,
   "id": "6fb5c62e",
   "metadata": {},
   "outputs": [
    {
     "name": "stdout",
     "output_type": "stream",
     "text": [
      "<class 'pandas.core.frame.DataFrame'>\n",
      "Int64Index: 68294 entries, 0 to 77549\n",
      "Data columns (total 3 columns):\n",
      " #   Column        Non-Null Count  Dtype \n",
      "---  ------        --------------  ----- \n",
      " 0   Review_title  68294 non-null  object\n",
      " 1   Review_text   68294 non-null  object\n",
      " 2   Ratings       68294 non-null  object\n",
      "dtypes: object(3)\n",
      "memory usage: 2.1+ MB\n"
     ]
    }
   ],
   "source": [
    "df.info()"
   ]
  },
  {
   "cell_type": "markdown",
   "id": "e8960610",
   "metadata": {},
   "source": [
    "Using the info method we are able to confirm the non null count details as well as the datatype information. We have all the 3 columns showing as object datatype here."
   ]
  },
  {
   "cell_type": "code",
   "execution_count": 12,
   "id": "951fa1b5",
   "metadata": {},
   "outputs": [
    {
     "data": {
      "text/plain": [
       "array(['2.0 out of 5 stars', '3.0 out of 5 stars', '1.0 out of 5 stars',\n",
       "       '5.0 out of 5 stars', '4.0 out of 5 stars', '5', '1', '4', '3',\n",
       "       '2'], dtype=object)"
      ]
     },
     "execution_count": 12,
     "metadata": {},
     "output_type": "execute_result"
    }
   ],
   "source": [
    "df['Ratings'].unique()"
   ]
  },
  {
   "cell_type": "markdown",
   "id": "33baa3de",
   "metadata": {},
   "source": [
    "Looking at these unique values in our target column we can see that the string enteries need to be replaced with the respective numeric values (number of stars)\n",
    "\n"
   ]
  },
  {
   "cell_type": "code",
   "execution_count": 13,
   "id": "97e35f0c",
   "metadata": {},
   "outputs": [
    {
     "data": {
      "text/plain": [
       "array([2, 3, 1, 5, 4])"
      ]
     },
     "execution_count": 13,
     "metadata": {},
     "output_type": "execute_result"
    }
   ],
   "source": [
    "df['Ratings'] = df['Ratings'].replace('1.0 out of 5 stars',1)\n",
    "df['Ratings'] = df['Ratings'].replace('2.0 out of 5 stars',2)\n",
    "df['Ratings'] = df['Ratings'].replace('3.0 out of 5 stars',3)\n",
    "df['Ratings'] = df['Ratings'].replace('4.0 out of 5 stars',4)\n",
    "df['Ratings'] = df['Ratings'].replace('5.0 out of 5 stars',5)\n",
    "df['Ratings'] = df['Ratings'].astype('int')\n",
    "df['Ratings'].unique()"
   ]
  },
  {
   "cell_type": "markdown",
   "id": "3da0c057",
   "metadata": {},
   "source": [
    "So we were able to incorporate the string object datatype values with numeric star values and the target column is clean with integer data in it.\n",
    "\n"
   ]
  },
  {
   "cell_type": "code",
   "execution_count": 14,
   "id": "4c4e499e",
   "metadata": {},
   "outputs": [
    {
     "data": {
      "text/html": [
       "<div>\n",
       "<style scoped>\n",
       "    .dataframe tbody tr th:only-of-type {\n",
       "        vertical-align: middle;\n",
       "    }\n",
       "\n",
       "    .dataframe tbody tr th {\n",
       "        vertical-align: top;\n",
       "    }\n",
       "\n",
       "    .dataframe thead th {\n",
       "        text-align: right;\n",
       "    }\n",
       "</style>\n",
       "<table border=\"1\" class=\"dataframe\">\n",
       "  <thead>\n",
       "    <tr style=\"text-align: right;\">\n",
       "      <th></th>\n",
       "      <th>Review_title</th>\n",
       "      <th>Review_text</th>\n",
       "      <th>Ratings</th>\n",
       "      <th>Review</th>\n",
       "    </tr>\n",
       "  </thead>\n",
       "  <tbody>\n",
       "    <tr>\n",
       "      <th>0</th>\n",
       "      <td>Suitable for School kids</td>\n",
       "      <td>\\n  If you are a College student or a professi...</td>\n",
       "      <td>2</td>\n",
       "      <td>Suitable for School kids \\n  If you are a Coll...</td>\n",
       "    </tr>\n",
       "    <tr>\n",
       "      <th>1</th>\n",
       "      <td>Misrepresentation on MS Office 2019 license - ...</td>\n",
       "      <td>\\n  Update after one month usage - MS Office 2...</td>\n",
       "      <td>2</td>\n",
       "      <td>Misrepresentation on MS Office 2019 license - ...</td>\n",
       "    </tr>\n",
       "    <tr>\n",
       "      <th>2</th>\n",
       "      <td>The sold me renewed laptop</td>\n",
       "      <td>\\n  It’s look like renewed laptop because lapt...</td>\n",
       "      <td>2</td>\n",
       "      <td>The sold me renewed laptop \\n  It’s look like ...</td>\n",
       "    </tr>\n",
       "    <tr>\n",
       "      <th>3</th>\n",
       "      <td>Amazon dupes with specification/ battery sucks</td>\n",
       "      <td>\\n  &amp;nbsp;I had seen the specifications and bo...</td>\n",
       "      <td>2</td>\n",
       "      <td>Amazon dupes with specification/ battery sucks...</td>\n",
       "    </tr>\n",
       "    <tr>\n",
       "      <th>4</th>\n",
       "      <td>Display back light issue</td>\n",
       "      <td>\\n  Display gone with 2 months.. But anyway th...</td>\n",
       "      <td>2</td>\n",
       "      <td>Display back light issue \\n  Display gone with...</td>\n",
       "    </tr>\n",
       "    <tr>\n",
       "      <th>...</th>\n",
       "      <td>...</td>\n",
       "      <td>...</td>\n",
       "      <td>...</td>\n",
       "      <td>...</td>\n",
       "    </tr>\n",
       "    <tr>\n",
       "      <th>77545</th>\n",
       "      <td>Nice product</td>\n",
       "      <td>good product</td>\n",
       "      <td>4</td>\n",
       "      <td>Nice product good product</td>\n",
       "    </tr>\n",
       "    <tr>\n",
       "      <th>77546</th>\n",
       "      <td>Awesome</td>\n",
       "      <td>Very good as expected and happy with the purchase</td>\n",
       "      <td>5</td>\n",
       "      <td>Awesome Very good as expected and happy with t...</td>\n",
       "    </tr>\n",
       "    <tr>\n",
       "      <th>77547</th>\n",
       "      <td>Awesome</td>\n",
       "      <td>I love it! No complaint!</td>\n",
       "      <td>5</td>\n",
       "      <td>Awesome I love it! No complaint!</td>\n",
       "    </tr>\n",
       "    <tr>\n",
       "      <th>77548</th>\n",
       "      <td>Nice product</td>\n",
       "      <td>good product</td>\n",
       "      <td>4</td>\n",
       "      <td>Nice product good product</td>\n",
       "    </tr>\n",
       "    <tr>\n",
       "      <th>77549</th>\n",
       "      <td>Awesome</td>\n",
       "      <td>Very good as expected and happy with the purchase</td>\n",
       "      <td>5</td>\n",
       "      <td>Awesome Very good as expected and happy with t...</td>\n",
       "    </tr>\n",
       "  </tbody>\n",
       "</table>\n",
       "<p>68294 rows × 4 columns</p>\n",
       "</div>"
      ],
      "text/plain": [
       "                                            Review_title  \\\n",
       "0                               Suitable for School kids   \n",
       "1      Misrepresentation on MS Office 2019 license - ...   \n",
       "2                             The sold me renewed laptop   \n",
       "3         Amazon dupes with specification/ battery sucks   \n",
       "4                               Display back light issue   \n",
       "...                                                  ...   \n",
       "77545                                       Nice product   \n",
       "77546                                            Awesome   \n",
       "77547                                            Awesome   \n",
       "77548                                       Nice product   \n",
       "77549                                            Awesome   \n",
       "\n",
       "                                             Review_text  Ratings  \\\n",
       "0      \\n  If you are a College student or a professi...        2   \n",
       "1      \\n  Update after one month usage - MS Office 2...        2   \n",
       "2      \\n  It’s look like renewed laptop because lapt...        2   \n",
       "3      \\n  &nbsp;I had seen the specifications and bo...        2   \n",
       "4      \\n  Display gone with 2 months.. But anyway th...        2   \n",
       "...                                                  ...      ...   \n",
       "77545                                       good product        4   \n",
       "77546  Very good as expected and happy with the purchase        5   \n",
       "77547                           I love it! No complaint!        5   \n",
       "77548                                       good product        4   \n",
       "77549  Very good as expected and happy with the purchase        5   \n",
       "\n",
       "                                                  Review  \n",
       "0      Suitable for School kids \\n  If you are a Coll...  \n",
       "1      Misrepresentation on MS Office 2019 license - ...  \n",
       "2      The sold me renewed laptop \\n  It’s look like ...  \n",
       "3      Amazon dupes with specification/ battery sucks...  \n",
       "4      Display back light issue \\n  Display gone with...  \n",
       "...                                                  ...  \n",
       "77545                          Nice product good product  \n",
       "77546  Awesome Very good as expected and happy with t...  \n",
       "77547                   Awesome I love it! No complaint!  \n",
       "77548                          Nice product good product  \n",
       "77549  Awesome Very good as expected and happy with t...  \n",
       "\n",
       "[68294 rows x 4 columns]"
      ]
     },
     "execution_count": 14,
     "metadata": {},
     "output_type": "execute_result"
    }
   ],
   "source": [
    "# Now combining the \"Review_title\" and \"Review_text\" columns into one single column called \"Review\"\n",
    "df['Review'] = df['Review_title'].map(str)+' '+df['Review_text']\n",
    "df"
   ]
  },
  {
   "cell_type": "markdown",
   "id": "b1aaca84",
   "metadata": {},
   "source": [
    "I have combined the columns Review_title and Review_text to create a new column called Review that has the consolidated comments."
   ]
  },
  {
   "cell_type": "markdown",
   "id": "b1fbdb67",
   "metadata": {},
   "source": [
    "# Visualizing text in first three rows from the newly created \"Review\" column"
   ]
  },
  {
   "cell_type": "code",
   "execution_count": 15,
   "id": "dd5d1701",
   "metadata": {},
   "outputs": [
    {
     "data": {
      "text/plain": [
       "'Suitable for School kids \\n  If you are a College student or a professional who depends heavily on laptop for pretty much everyday then  this laptop is not for you. It hangs more often than it runs. Cannot install essential computer science software such as Eclipse or android studio because then this laptop just dies.<br><br>I took this laptop thinking that it will have good performance based on its configuration.<br><br>But if you are someone who wants to attend online classes or just browse, then you may go for this laptop.\\n'"
      ]
     },
     "execution_count": 15,
     "metadata": {},
     "output_type": "execute_result"
    }
   ],
   "source": [
    "df['Review'][0]"
   ]
  },
  {
   "cell_type": "code",
   "execution_count": 16,
   "id": "2d6a85ea",
   "metadata": {},
   "outputs": [
    {
     "data": {
      "text/plain": [
       "'Misrepresentation on MS Office 2019 license - it is one month trial \\n  Update after one month usage - MS Office 2019 preinstalled edition became unlicensed version within 30 days and refused to activate. HP support shared their product sheet that stated that this laptop came only with a trial version of MS Office 2019. Now I am chasing seller Appario Retail to honour the commitment.<br><br>Bad experience after paying high price (around ₹67,000) for preinstalled genuine software.<br><br>Other wise product has sleek looks, superfast fingerprint scanner, very good display, very responsive touchpad, decent (but tinny) speakers, USB C and barrel plug charging options and under 10 second boot up (SSD drive). Preloaded with Win10 Home and MS Office (not sure whether trial or full version). Drawbacks - weighs 1.42 kg, base gets warm rather quickly and so does the power adapter. Decent for a college student.\\n'"
      ]
     },
     "execution_count": 16,
     "metadata": {},
     "output_type": "execute_result"
    }
   ],
   "source": [
    "df['Review'][1]"
   ]
  },
  {
   "cell_type": "code",
   "execution_count": 17,
   "id": "ae99a87e",
   "metadata": {},
   "outputs": [
    {
     "data": {
      "text/plain": [
       "'The sold me renewed laptop \\n  It’s look like renewed laptop because laptop charging jack is loose and left side speaker sounds like it’s tear. Bad sound quality  and finger sensor quality look like 2011 touch phone of wing and any Chinese phone touch. Waste of money and one more thing day by day Amazon product quality getting poor\\n'"
      ]
     },
     "execution_count": 17,
     "metadata": {},
     "output_type": "execute_result"
    }
   ],
   "source": [
    "df['Review'][2]"
   ]
  },
  {
   "cell_type": "code",
   "execution_count": 18,
   "id": "4ed6c3a9",
   "metadata": {},
   "outputs": [
    {
     "name": "stderr",
     "output_type": "stream",
     "text": [
      "[nltk_data] Error loading stopwords: <urlopen error [Errno 8] nodename\n",
      "[nltk_data]     nor servname provided, or not known>\n",
      "[nltk_data] Error loading punkt: <urlopen error [Errno 8] nodename nor\n",
      "[nltk_data]     servname provided, or not known>\n",
      "[nltk_data] Error loading wordnet: <urlopen error [Errno 8] nodename\n",
      "[nltk_data]     nor servname provided, or not known>\n",
      "[nltk_data] Error loading averaged_perceptron_tagger: <urlopen error\n",
      "[nltk_data]     [Errno 8] nodename nor servname provided, or not\n",
      "[nltk_data]     known>\n"
     ]
    }
   ],
   "source": [
    "\n",
    "# Importing nltk libraries\n",
    "import re\n",
    "import string\n",
    "import nltk\n",
    "from nltk.corpus import stopwords\n",
    "nltk.download('stopwords', quiet=True)\n",
    "nltk.download('punkt', quiet=True)\n",
    "nltk.download('wordnet', quiet=True)\n",
    "nltk.download('averaged_perceptron_tagger', quiet=True)\n",
    "from nltk import FreqDist\n",
    "from nltk.tokenize import word_tokenize\n",
    "from nltk.stem.wordnet import WordNetLemmatizer\n",
    "from nltk.corpus import wordnet\n",
    "from nltk import FreqDist"
   ]
  },
  {
   "cell_type": "markdown",
   "id": "4e5b13ed",
   "metadata": {},
   "source": [
    "# Text Processing to remove unwanted punctuations and special characters"
   ]
  },
  {
   "cell_type": "code",
   "execution_count": 19,
   "id": "614058dc",
   "metadata": {},
   "outputs": [
    {
     "name": "stderr",
     "output_type": "stream",
     "text": [
      "<ipython-input-19-96d92761f4ab>:28: FutureWarning: The default value of regex will change from True to False in a future version.\n",
      "  df['Review'] = df['Review'].str.replace('[^\\w\\s]','')\n"
     ]
    }
   ],
   "source": [
    "'''Here I am defining a function to replace some of the contracted words to their full form and removing urls and some \n",
    "unwanted text'''\n",
    "\n",
    "def decontracted(text):\n",
    "    text = re.sub(r\"won't\", \"will not\", text)\n",
    "    text = re.sub(r\"don’t\", \"do not\", text)\n",
    "    text = re.sub(r\"can't\", \"can not\", text)\n",
    "    text = re.sub(r\"im \", \"i am\", text)\n",
    "    text = re.sub(r\"yo \", \"you \",text)\n",
    "    text = re.sub(r\"doesn’t\", \"does not\",text)\n",
    "    text = re.sub(r\"n\\'t\", \" not\", text)\n",
    "    text = re.sub(r\"\\'re\", \" are\", text)\n",
    "    text = re.sub(r\"\\'s\", \" is\", text)\n",
    "    text = re.sub(r\"\\'d\", \" would\", text)\n",
    "    text = re.sub(r\"\\'ll\", \" will\", text)\n",
    "    text = re.sub(r\"\\'t\", \" not\", text)\n",
    "    text = re.sub(r\"\\'ve\", \" have\", text)\n",
    "    text = re.sub(r\"\\'m\", \" am\", text)\n",
    "    text = re.sub(r\"<br>\", \" \", text)\n",
    "    text = re.sub(r'http\\S+', '', text) #removing urls\n",
    "    return text\n",
    "\n",
    "# Lowercasing the alphabets\n",
    "df['Review'] = df['Review'].apply(lambda x : x.lower())\n",
    "df['Review'] = df['Review'].apply(lambda x : decontracted(x))\n",
    "\n",
    "# Removing punctuations from the review\n",
    "df['Review'] = df['Review'].str.replace('[^\\w\\s]','')\n",
    "df['Review'] = df['Review'].str.replace('\\n',' ')\n"
   ]
  },
  {
   "cell_type": "code",
   "execution_count": 20,
   "id": "652e68da",
   "metadata": {},
   "outputs": [],
   "source": [
    "# Removing all the stopwords\n",
    "stop = stopwords.words('english')\n",
    "df['Review'] = df['Review'].apply(lambda x: ' '.join([word for word in x.split() if word not in (stop)]))"
   ]
  },
  {
   "cell_type": "markdown",
   "id": "48bb2c13",
   "metadata": {},
   "source": [
    "Visualizing text in first three rows after applying various text cleaning procedures"
   ]
  },
  {
   "cell_type": "code",
   "execution_count": 21,
   "id": "e7c54da9",
   "metadata": {},
   "outputs": [
    {
     "data": {
      "text/plain": [
       "'suitable school kids college student professional depends heavily laptop pretty much everyday laptop hangs often runs cannot install essential computer science software eclipse android studio laptop dies took laptop thinking good performance based configuration someone wants attend online classes browse may go laptop'"
      ]
     },
     "execution_count": 21,
     "metadata": {},
     "output_type": "execute_result"
    }
   ],
   "source": [
    "df['Review'][0]"
   ]
  },
  {
   "cell_type": "code",
   "execution_count": 22,
   "id": "5174c32f",
   "metadata": {},
   "outputs": [
    {
     "data": {
      "text/plain": [
       "'misrepresentation ms office 2019 license one month trial update one month usage ms office 2019 preinstalled edition became unlicensed version within 30 days refused activate hp support shared product sheet stated laptop came trial version ms office 2019 chasing seller appario retail honour commitment bad experience paying high price around 67000 preinstalled genuine software wise product sleek looks superfast fingerprint scanner good display responsive touchpad decent tinny speakers usb c barrel plug charging options 10 second boot ssd drive preloaded win10 home ms office sure whether trial full version drawbacks weighs 142 kg base gets warm rather quickly power adapter decent college student'"
      ]
     },
     "execution_count": 22,
     "metadata": {},
     "output_type": "execute_result"
    }
   ],
   "source": [
    "df['Review'][1]"
   ]
  },
  {
   "cell_type": "code",
   "execution_count": 23,
   "id": "aee0e30f",
   "metadata": {},
   "outputs": [
    {
     "data": {
      "text/plain": [
       "'sold renewed laptop look like renewed laptop laptop charging jack loose left side speaker sounds like tear bad sound quality finger sensor quality look like 2011 touch phone wing chinese phone touch waste money one thing day day amazon product quality getting poor'"
      ]
     },
     "execution_count": 23,
     "metadata": {},
     "output_type": "execute_result"
    }
   ],
   "source": [
    "df['Review'][2]"
   ]
  },
  {
   "cell_type": "markdown",
   "id": "62a492e8",
   "metadata": {},
   "source": [
    "# Lemmatization"
   ]
  },
  {
   "cell_type": "code",
   "execution_count": 24,
   "id": "76c1e375",
   "metadata": {},
   "outputs": [
    {
     "ename": "NameError",
     "evalue": "name 'lemmatizer' is not defined",
     "output_type": "error",
     "traceback": [
      "\u001b[0;31m---------------------------------------------------------------------------\u001b[0m",
      "\u001b[0;31mNameError\u001b[0m                                 Traceback (most recent call last)",
      "\u001b[0;32m<ipython-input-24-b2ae6348aa7c>\u001b[0m in \u001b[0;36m<module>\u001b[0;34m\u001b[0m\n\u001b[1;32m     26\u001b[0m     \u001b[0;32mreturn\u001b[0m \u001b[0;34m\" \"\u001b[0m\u001b[0;34m.\u001b[0m\u001b[0mjoin\u001b[0m\u001b[0;34m(\u001b[0m\u001b[0mlemmatize_sentence\u001b[0m\u001b[0;34m)\u001b[0m\u001b[0;34m\u001b[0m\u001b[0;34m\u001b[0m\u001b[0m\n\u001b[1;32m     27\u001b[0m \u001b[0;34m\u001b[0m\u001b[0m\n\u001b[0;32m---> 28\u001b[0;31m \u001b[0mdf\u001b[0m\u001b[0;34m[\u001b[0m\u001b[0;34m'Review'\u001b[0m\u001b[0;34m]\u001b[0m \u001b[0;34m=\u001b[0m \u001b[0mdf\u001b[0m\u001b[0;34m[\u001b[0m\u001b[0;34m'Review'\u001b[0m\u001b[0;34m]\u001b[0m\u001b[0;34m.\u001b[0m\u001b[0mapply\u001b[0m\u001b[0;34m(\u001b[0m\u001b[0;32mlambda\u001b[0m \u001b[0mx\u001b[0m \u001b[0;34m:\u001b[0m \u001b[0mlemmatize_sentence\u001b[0m\u001b[0;34m(\u001b[0m\u001b[0mx\u001b[0m\u001b[0;34m)\u001b[0m\u001b[0;34m)\u001b[0m\u001b[0;34m\u001b[0m\u001b[0;34m\u001b[0m\u001b[0m\n\u001b[0m",
      "\u001b[0;32m~/opt/anaconda3/lib/python3.8/site-packages/pandas/core/series.py\u001b[0m in \u001b[0;36mapply\u001b[0;34m(self, func, convert_dtype, args, **kwds)\u001b[0m\n\u001b[1;32m   4136\u001b[0m             \u001b[0;32melse\u001b[0m\u001b[0;34m:\u001b[0m\u001b[0;34m\u001b[0m\u001b[0;34m\u001b[0m\u001b[0m\n\u001b[1;32m   4137\u001b[0m                 \u001b[0mvalues\u001b[0m \u001b[0;34m=\u001b[0m \u001b[0mself\u001b[0m\u001b[0;34m.\u001b[0m\u001b[0mastype\u001b[0m\u001b[0;34m(\u001b[0m\u001b[0mobject\u001b[0m\u001b[0;34m)\u001b[0m\u001b[0;34m.\u001b[0m\u001b[0m_values\u001b[0m\u001b[0;34m\u001b[0m\u001b[0;34m\u001b[0m\u001b[0m\n\u001b[0;32m-> 4138\u001b[0;31m                 \u001b[0mmapped\u001b[0m \u001b[0;34m=\u001b[0m \u001b[0mlib\u001b[0m\u001b[0;34m.\u001b[0m\u001b[0mmap_infer\u001b[0m\u001b[0;34m(\u001b[0m\u001b[0mvalues\u001b[0m\u001b[0;34m,\u001b[0m \u001b[0mf\u001b[0m\u001b[0;34m,\u001b[0m \u001b[0mconvert\u001b[0m\u001b[0;34m=\u001b[0m\u001b[0mconvert_dtype\u001b[0m\u001b[0;34m)\u001b[0m\u001b[0;34m\u001b[0m\u001b[0;34m\u001b[0m\u001b[0m\n\u001b[0m\u001b[1;32m   4139\u001b[0m \u001b[0;34m\u001b[0m\u001b[0m\n\u001b[1;32m   4140\u001b[0m         \u001b[0;32mif\u001b[0m \u001b[0mlen\u001b[0m\u001b[0;34m(\u001b[0m\u001b[0mmapped\u001b[0m\u001b[0;34m)\u001b[0m \u001b[0;32mand\u001b[0m \u001b[0misinstance\u001b[0m\u001b[0;34m(\u001b[0m\u001b[0mmapped\u001b[0m\u001b[0;34m[\u001b[0m\u001b[0;36m0\u001b[0m\u001b[0;34m]\u001b[0m\u001b[0;34m,\u001b[0m \u001b[0mSeries\u001b[0m\u001b[0;34m)\u001b[0m\u001b[0;34m:\u001b[0m\u001b[0;34m\u001b[0m\u001b[0;34m\u001b[0m\u001b[0m\n",
      "\u001b[0;32mpandas/_libs/lib.pyx\u001b[0m in \u001b[0;36mpandas._libs.lib.map_infer\u001b[0;34m()\u001b[0m\n",
      "\u001b[0;32m<ipython-input-24-b2ae6348aa7c>\u001b[0m in \u001b[0;36m<lambda>\u001b[0;34m(x)\u001b[0m\n\u001b[1;32m     26\u001b[0m     \u001b[0;32mreturn\u001b[0m \u001b[0;34m\" \"\u001b[0m\u001b[0;34m.\u001b[0m\u001b[0mjoin\u001b[0m\u001b[0;34m(\u001b[0m\u001b[0mlemmatize_sentence\u001b[0m\u001b[0;34m)\u001b[0m\u001b[0;34m\u001b[0m\u001b[0;34m\u001b[0m\u001b[0m\n\u001b[1;32m     27\u001b[0m \u001b[0;34m\u001b[0m\u001b[0m\n\u001b[0;32m---> 28\u001b[0;31m \u001b[0mdf\u001b[0m\u001b[0;34m[\u001b[0m\u001b[0;34m'Review'\u001b[0m\u001b[0;34m]\u001b[0m \u001b[0;34m=\u001b[0m \u001b[0mdf\u001b[0m\u001b[0;34m[\u001b[0m\u001b[0;34m'Review'\u001b[0m\u001b[0;34m]\u001b[0m\u001b[0;34m.\u001b[0m\u001b[0mapply\u001b[0m\u001b[0;34m(\u001b[0m\u001b[0;32mlambda\u001b[0m \u001b[0mx\u001b[0m \u001b[0;34m:\u001b[0m \u001b[0mlemmatize_sentence\u001b[0m\u001b[0;34m(\u001b[0m\u001b[0mx\u001b[0m\u001b[0;34m)\u001b[0m\u001b[0;34m)\u001b[0m\u001b[0;34m\u001b[0m\u001b[0;34m\u001b[0m\u001b[0m\n\u001b[0m",
      "\u001b[0;32m<ipython-input-24-b2ae6348aa7c>\u001b[0m in \u001b[0;36mlemmatize_sentence\u001b[0;34m(sentence)\u001b[0m\n\u001b[1;32m     23\u001b[0m             \u001b[0mlemmatize_sentence\u001b[0m\u001b[0;34m.\u001b[0m\u001b[0mappend\u001b[0m\u001b[0;34m(\u001b[0m\u001b[0mword\u001b[0m\u001b[0;34m)\u001b[0m\u001b[0;34m\u001b[0m\u001b[0;34m\u001b[0m\u001b[0m\n\u001b[1;32m     24\u001b[0m         \u001b[0;32melse\u001b[0m\u001b[0;34m:\u001b[0m\u001b[0;34m\u001b[0m\u001b[0;34m\u001b[0m\u001b[0m\n\u001b[0;32m---> 25\u001b[0;31m             \u001b[0mlemmatize_sentence\u001b[0m\u001b[0;34m.\u001b[0m\u001b[0mappend\u001b[0m\u001b[0;34m(\u001b[0m\u001b[0mlemmatizer\u001b[0m\u001b[0;34m.\u001b[0m\u001b[0mlemmatize\u001b[0m\u001b[0;34m(\u001b[0m\u001b[0mword\u001b[0m\u001b[0;34m,\u001b[0m\u001b[0mtag\u001b[0m\u001b[0;34m)\u001b[0m\u001b[0;34m)\u001b[0m\u001b[0;34m\u001b[0m\u001b[0;34m\u001b[0m\u001b[0m\n\u001b[0m\u001b[1;32m     26\u001b[0m     \u001b[0;32mreturn\u001b[0m \u001b[0;34m\" \"\u001b[0m\u001b[0;34m.\u001b[0m\u001b[0mjoin\u001b[0m\u001b[0;34m(\u001b[0m\u001b[0mlemmatize_sentence\u001b[0m\u001b[0;34m)\u001b[0m\u001b[0;34m\u001b[0m\u001b[0;34m\u001b[0m\u001b[0m\n\u001b[1;32m     27\u001b[0m \u001b[0;34m\u001b[0m\u001b[0m\n",
      "\u001b[0;31mNameError\u001b[0m: name 'lemmatizer' is not defined"
     ]
    }
   ],
   "source": [
    "# Defining functiom to convert nltk tag to wordnet tags\n",
    "def nltk_tag_to_wordnet_tag(nltk_tag):\n",
    "    if nltk_tag.startswith('J'):\n",
    "        return wordnet.ADJ\n",
    "    elif nltk_tag.startswith('V'):\n",
    "        return wordnet.VERB\n",
    "    elif nltk_tag.startswith('N'):\n",
    "        return wordnet.NOUN\n",
    "    elif nltk_tag.startswith('R'):\n",
    "        return wordnet.ADV\n",
    "    else:\n",
    "        return None\n",
    "    \n",
    "# Defining function to lemmatize our text\n",
    "def lemmatize_sentence(sentence):\n",
    "    # tokenize the sentence and find the pos_tag\n",
    "    nltk_tagged = nltk.pos_tag(nltk.word_tokenize(sentence))\n",
    "    # tuple of (token, wordnet_tag)\n",
    "    wordnet_tagged = map(lambda x : (x[0], nltk_tag_to_wordnet_tag(x[1])), nltk_tagged)\n",
    "    lemmatize_sentence = []\n",
    "    for word, tag in wordnet_tagged:\n",
    "        if tag is None:\n",
    "            lemmatize_sentence.append(word)\n",
    "        else:\n",
    "            lemmatize_sentence.append(lemmatizer.lemmatize(word,tag))\n",
    "    return \" \".join(lemmatize_sentence)    \n",
    "\n",
    "df['Review'] = df['Review'].apply(lambda x : lemmatize_sentence(x))"
   ]
  },
  {
   "cell_type": "code",
   "execution_count": 25,
   "id": "7e118776",
   "metadata": {},
   "outputs": [
    {
     "data": {
      "text/plain": [
       "'suitable school kids college student professional depends heavily laptop pretty much everyday laptop hangs often runs cannot install essential computer science software eclipse android studio laptop dies took laptop thinking good performance based configuration someone wants attend online classes browse may go laptop'"
      ]
     },
     "execution_count": 25,
     "metadata": {},
     "output_type": "execute_result"
    }
   ],
   "source": [
    "df['Review'][0]"
   ]
  },
  {
   "cell_type": "code",
   "execution_count": 26,
   "id": "c72fde98",
   "metadata": {},
   "outputs": [
    {
     "data": {
      "text/plain": [
       "'misrepresentation ms office 2019 license one month trial update one month usage ms office 2019 preinstalled edition became unlicensed version within 30 days refused activate hp support shared product sheet stated laptop came trial version ms office 2019 chasing seller appario retail honour commitment bad experience paying high price around 67000 preinstalled genuine software wise product sleek looks superfast fingerprint scanner good display responsive touchpad decent tinny speakers usb c barrel plug charging options 10 second boot ssd drive preloaded win10 home ms office sure whether trial full version drawbacks weighs 142 kg base gets warm rather quickly power adapter decent college student'"
      ]
     },
     "execution_count": 26,
     "metadata": {},
     "output_type": "execute_result"
    }
   ],
   "source": [
    "df['Review'][1]"
   ]
  },
  {
   "cell_type": "code",
   "execution_count": 27,
   "id": "4ad14d51",
   "metadata": {},
   "outputs": [
    {
     "data": {
      "text/plain": [
       "'sold renewed laptop look like renewed laptop laptop charging jack loose left side speaker sounds like tear bad sound quality finger sensor quality look like 2011 touch phone wing chinese phone touch waste money one thing day day amazon product quality getting poor'"
      ]
     },
     "execution_count": 27,
     "metadata": {},
     "output_type": "execute_result"
    }
   ],
   "source": [
    "df['Review'][2]"
   ]
  },
  {
   "cell_type": "markdown",
   "id": "20ee0d26",
   "metadata": {},
   "source": [
    "# Text Normalization - Standardization"
   ]
  },
  {
   "cell_type": "code",
   "execution_count": 28,
   "id": "9f4d0c0f",
   "metadata": {},
   "outputs": [],
   "source": [
    "# Noise removal function\n",
    "def scrub_words(text):\n",
    "    # remove HTML markup\n",
    "    text = re.sub(\"(<.*?>)\", \"\", text)\n",
    "    # remove non-ascii and digits\n",
    "    text = re.sub(\"(\\\\W)\", \" \", text)\n",
    "    text = re.sub(\"(\\\\d)\", \"\", text)\n",
    "    # remove white space\n",
    "    text = text.strip()\n",
    "    return text\n",
    "\n",
    "df['Review'] = df['Review'].apply(lambda x : scrub_words(x))\n"
   ]
  },
  {
   "cell_type": "code",
   "execution_count": 29,
   "id": "ccc884cb",
   "metadata": {},
   "outputs": [
    {
     "data": {
      "text/plain": [
       "'suitable school kids college student professional depends heavily laptop pretty much everyday laptop hangs often runs cannot install essential computer science software eclipse android studio laptop dies took laptop thinking good performance based configuration someone wants attend online classes browse may go laptop'"
      ]
     },
     "execution_count": 29,
     "metadata": {},
     "output_type": "execute_result"
    }
   ],
   "source": [
    "df['Review'][0]"
   ]
  },
  {
   "cell_type": "code",
   "execution_count": 30,
   "id": "f6c8391a",
   "metadata": {},
   "outputs": [
    {
     "data": {
      "text/plain": [
       "'misrepresentation ms office  license one month trial update one month usage ms office  preinstalled edition became unlicensed version within  days refused activate hp support shared product sheet stated laptop came trial version ms office  chasing seller appario retail honour commitment bad experience paying high price around  preinstalled genuine software wise product sleek looks superfast fingerprint scanner good display responsive touchpad decent tinny speakers usb c barrel plug charging options  second boot ssd drive preloaded win home ms office sure whether trial full version drawbacks weighs  kg base gets warm rather quickly power adapter decent college student'"
      ]
     },
     "execution_count": 30,
     "metadata": {},
     "output_type": "execute_result"
    }
   ],
   "source": [
    "df['Review'][1]"
   ]
  },
  {
   "cell_type": "code",
   "execution_count": 31,
   "id": "4e322644",
   "metadata": {},
   "outputs": [
    {
     "data": {
      "text/plain": [
       "'sold renewed laptop look like renewed laptop laptop charging jack loose left side speaker sounds like tear bad sound quality finger sensor quality look like  touch phone wing chinese phone touch waste money one thing day day amazon product quality getting poor'"
      ]
     },
     "execution_count": 31,
     "metadata": {},
     "output_type": "execute_result"
    }
   ],
   "source": [
    "df['Review'][2]"
   ]
  },
  {
   "cell_type": "markdown",
   "id": "3fc5ef2a",
   "metadata": {},
   "source": [
    "# Word Counts"
   ]
  },
  {
   "cell_type": "code",
   "execution_count": 32,
   "id": "1b4d0616",
   "metadata": {},
   "outputs": [
    {
     "data": {
      "text/html": [
       "<div>\n",
       "<style scoped>\n",
       "    .dataframe tbody tr th:only-of-type {\n",
       "        vertical-align: middle;\n",
       "    }\n",
       "\n",
       "    .dataframe tbody tr th {\n",
       "        vertical-align: top;\n",
       "    }\n",
       "\n",
       "    .dataframe thead th {\n",
       "        text-align: right;\n",
       "    }\n",
       "</style>\n",
       "<table border=\"1\" class=\"dataframe\">\n",
       "  <thead>\n",
       "    <tr style=\"text-align: right;\">\n",
       "      <th></th>\n",
       "      <th>Review_WC</th>\n",
       "      <th>Review</th>\n",
       "    </tr>\n",
       "  </thead>\n",
       "  <tbody>\n",
       "    <tr>\n",
       "      <th>0</th>\n",
       "      <td>43</td>\n",
       "      <td>suitable school kids college student professio...</td>\n",
       "    </tr>\n",
       "    <tr>\n",
       "      <th>1</th>\n",
       "      <td>103</td>\n",
       "      <td>misrepresentation ms office  license one month...</td>\n",
       "    </tr>\n",
       "    <tr>\n",
       "      <th>2</th>\n",
       "      <td>43</td>\n",
       "      <td>sold renewed laptop look like renewed laptop l...</td>\n",
       "    </tr>\n",
       "    <tr>\n",
       "      <th>3</th>\n",
       "      <td>21</td>\n",
       "      <td>amazon dupes specification battery sucks nbspi...</td>\n",
       "    </tr>\n",
       "    <tr>\n",
       "      <th>4</th>\n",
       "      <td>16</td>\n",
       "      <td>display back light issue display gone  months ...</td>\n",
       "    </tr>\n",
       "    <tr>\n",
       "      <th>5</th>\n",
       "      <td>7</td>\n",
       "      <td>battery life battery backup give one hour</td>\n",
       "    </tr>\n",
       "    <tr>\n",
       "      <th>6</th>\n",
       "      <td>18</td>\n",
       "      <td>professional works blue screen power linux ope...</td>\n",
       "    </tr>\n",
       "    <tr>\n",
       "      <th>7</th>\n",
       "      <td>8</td>\n",
       "      <td>monitor power issue monitor turning  weeks pur...</td>\n",
       "    </tr>\n",
       "    <tr>\n",
       "      <th>8</th>\n",
       "      <td>6</td>\n",
       "      <td>waste waste money sometimes screen marks</td>\n",
       "    </tr>\n",
       "    <tr>\n",
       "      <th>9</th>\n",
       "      <td>5</td>\n",
       "      <td>able download warranty card good</td>\n",
       "    </tr>\n",
       "  </tbody>\n",
       "</table>\n",
       "</div>"
      ],
      "text/plain": [
       "   Review_WC                                             Review\n",
       "0         43  suitable school kids college student professio...\n",
       "1        103  misrepresentation ms office  license one month...\n",
       "2         43  sold renewed laptop look like renewed laptop l...\n",
       "3         21  amazon dupes specification battery sucks nbspi...\n",
       "4         16  display back light issue display gone  months ...\n",
       "5          7          battery life battery backup give one hour\n",
       "6         18  professional works blue screen power linux ope...\n",
       "7          8  monitor power issue monitor turning  weeks pur...\n",
       "8          6           waste waste money sometimes screen marks\n",
       "9          5                   able download warranty card good"
      ]
     },
     "execution_count": 32,
     "metadata": {},
     "output_type": "execute_result"
    }
   ],
   "source": [
    "# Creating column for word counts in the review text\n",
    "df['Review_WC'] = df['Review'].apply(lambda x: len(str(x).split(' ')))\n",
    "df[['Review_WC', 'Review']].head(10)"
   ]
  },
  {
   "cell_type": "code",
   "execution_count": 33,
   "id": "44ef17ba",
   "metadata": {},
   "outputs": [
    {
     "name": "stderr",
     "output_type": "stream",
     "text": [
      "/Users/apple/opt/anaconda3/lib/python3.8/site-packages/seaborn/distributions.py:2557: FutureWarning: `distplot` is a deprecated function and will be removed in a future version. Please adapt your code to use either `displot` (a figure-level function with similar flexibility) or `histplot` (an axes-level function for histograms).\n",
      "  warnings.warn(msg, FutureWarning)\n"
     ]
    },
    {
     "data": {
      "image/png": "[encoded data removed]",
      "text/plain": [
       "<Figure size 720x504 with 1 Axes>"
      ]
     },
     "metadata": {
      "needs_background": "light"
     },
     "output_type": "display_data"
    }
   ],
   "source": [
    "# Density plot and histogram of all word count\n",
    "plt.figure(figsize=(10,7))\n",
    "sns.distplot(df['Review_WC'], hist = True, kde = True,\n",
    "            bins = int(180/5), color = 'darkblue',\n",
    "            hist_kws = {'edgecolor':'black'},\n",
    "            kde_kws = {'linewidth':4})\n",
    "plt.show()"
   ]
  },
  {
   "cell_type": "markdown",
   "id": "c93f2539",
   "metadata": {},
   "source": [
    "Looking at the above histogram we can clearly observe that most of our text is having the number of words in the range of 0 to 200. But some of the reviews are too lengthy which may act like outliers in our data."
   ]
  },
  {
   "cell_type": "markdown",
   "id": "6bf51902",
   "metadata": {},
   "source": [
    "# Character Counts"
   ]
  },
  {
   "cell_type": "code",
   "execution_count": 34,
   "id": "9a1819db",
   "metadata": {},
   "outputs": [
    {
     "data": {
      "text/html": [
       "<div>\n",
       "<style scoped>\n",
       "    .dataframe tbody tr th:only-of-type {\n",
       "        vertical-align: middle;\n",
       "    }\n",
       "\n",
       "    .dataframe tbody tr th {\n",
       "        vertical-align: top;\n",
       "    }\n",
       "\n",
       "    .dataframe thead th {\n",
       "        text-align: right;\n",
       "    }\n",
       "</style>\n",
       "<table border=\"1\" class=\"dataframe\">\n",
       "  <thead>\n",
       "    <tr style=\"text-align: right;\">\n",
       "      <th></th>\n",
       "      <th>Review_CC</th>\n",
       "      <th>Review</th>\n",
       "    </tr>\n",
       "  </thead>\n",
       "  <tbody>\n",
       "    <tr>\n",
       "      <th>0</th>\n",
       "      <td>318</td>\n",
       "      <td>suitable school kids college student professio...</td>\n",
       "    </tr>\n",
       "    <tr>\n",
       "      <th>1</th>\n",
       "      <td>675</td>\n",
       "      <td>misrepresentation ms office  license one month...</td>\n",
       "    </tr>\n",
       "    <tr>\n",
       "      <th>2</th>\n",
       "      <td>260</td>\n",
       "      <td>sold renewed laptop look like renewed laptop l...</td>\n",
       "    </tr>\n",
       "    <tr>\n",
       "      <th>3</th>\n",
       "      <td>138</td>\n",
       "      <td>amazon dupes specification battery sucks nbspi...</td>\n",
       "    </tr>\n",
       "    <tr>\n",
       "      <th>4</th>\n",
       "      <td>110</td>\n",
       "      <td>display back light issue display gone  months ...</td>\n",
       "    </tr>\n",
       "    <tr>\n",
       "      <th>5</th>\n",
       "      <td>41</td>\n",
       "      <td>battery life battery backup give one hour</td>\n",
       "    </tr>\n",
       "    <tr>\n",
       "      <th>6</th>\n",
       "      <td>128</td>\n",
       "      <td>professional works blue screen power linux ope...</td>\n",
       "    </tr>\n",
       "    <tr>\n",
       "      <th>7</th>\n",
       "      <td>51</td>\n",
       "      <td>monitor power issue monitor turning  weeks pur...</td>\n",
       "    </tr>\n",
       "    <tr>\n",
       "      <th>8</th>\n",
       "      <td>40</td>\n",
       "      <td>waste waste money sometimes screen marks</td>\n",
       "    </tr>\n",
       "    <tr>\n",
       "      <th>9</th>\n",
       "      <td>32</td>\n",
       "      <td>able download warranty card good</td>\n",
       "    </tr>\n",
       "  </tbody>\n",
       "</table>\n",
       "</div>"
      ],
      "text/plain": [
       "   Review_CC                                             Review\n",
       "0        318  suitable school kids college student professio...\n",
       "1        675  misrepresentation ms office  license one month...\n",
       "2        260  sold renewed laptop look like renewed laptop l...\n",
       "3        138  amazon dupes specification battery sucks nbspi...\n",
       "4        110  display back light issue display gone  months ...\n",
       "5         41          battery life battery backup give one hour\n",
       "6        128  professional works blue screen power linux ope...\n",
       "7         51  monitor power issue monitor turning  weeks pur...\n",
       "8         40           waste waste money sometimes screen marks\n",
       "9         32                   able download warranty card good"
      ]
     },
     "execution_count": 34,
     "metadata": {},
     "output_type": "execute_result"
    }
   ],
   "source": [
    "# Creating column for character counts in the review text\n",
    "df['Review_CC'] = df['Review'].str.len()\n",
    "df[['Review_CC','Review']].head(10)"
   ]
  },
  {
   "cell_type": "code",
   "execution_count": 35,
   "id": "cbf21643",
   "metadata": {},
   "outputs": [
    {
     "name": "stderr",
     "output_type": "stream",
     "text": [
      "/Users/apple/opt/anaconda3/lib/python3.8/site-packages/seaborn/distributions.py:2557: FutureWarning: `distplot` is a deprecated function and will be removed in a future version. Please adapt your code to use either `displot` (a figure-level function with similar flexibility) or `histplot` (an axes-level function for histograms).\n",
      "  warnings.warn(msg, FutureWarning)\n"
     ]
    },
    {
     "data": {
      "image/png": "[encoded data removed]",
      "text/plain": [
       "<Figure size 720x504 with 1 Axes>"
      ]
     },
     "metadata": {
      "needs_background": "light"
     },
     "output_type": "display_data"
    }
   ],
   "source": [
    "# Density plot and histogram of all character count\n",
    "plt.figure(figsize=(10,7))\n",
    "sns.distplot(df['Review_CC'], hist = True, kde = True,\n",
    "            bins = int(180/5), color = 'darkblue',\n",
    "            hist_kws = {'edgecolor':'black'},\n",
    "            kde_kws = {'linewidth':4})\n",
    "plt.show()"
   ]
  },
  {
   "cell_type": "markdown",
   "id": "70e775a3",
   "metadata": {},
   "source": [
    "Above plot represents histogram for character count of review text, which is quite similar to the histogram of word count."
   ]
  },
  {
   "cell_type": "markdown",
   "id": "a96fd80e",
   "metadata": {},
   "source": [
    "# Removing Outliers"
   ]
  },
  {
   "cell_type": "code",
   "execution_count": 36,
   "id": "24fe5565",
   "metadata": {},
   "outputs": [],
   "source": [
    "from scipy import stats\n",
    "from scipy.stats import zscore\n",
    "from scipy.sparse import hstack\n",
    "from sklearn.feature_extraction.text import TfidfVectorizer\n",
    "from sklearn.preprocessing import StandardScaler\n",
    "from sklearn.model_selection import train_test_split, GridSearchCV \n",
    "from sklearn.model_selection import cross_val_score\n"
   ]
  },
  {
   "cell_type": "code",
   "execution_count": 37,
   "id": "edf43b8a",
   "metadata": {},
   "outputs": [
    {
     "name": "stdout",
     "output_type": "stream",
     "text": [
      "We have 67261 Rows and 6 Columns in our dataframe after removing outliers\n"
     ]
    }
   ],
   "source": [
    "# Applying zscore to remove outliers\n",
    "z_score = zscore(df[['Review_WC']])\n",
    "abs_z_score = np.abs(z_score)\n",
    "filtering_entry = (abs_z_score < 3).all(axis = 1)\n",
    "df = df[filtering_entry]\n",
    "print(\"We have {} Rows and {} Columns in our dataframe after removing outliers\".format(df.shape[0], df.shape[1]))"
   ]
  },
  {
   "cell_type": "markdown",
   "id": "3db9ca52",
   "metadata": {},
   "source": [
    "As we know that some of the review are too lengthy I am removing those reviews from the data as outliers using Z score method. By removing outliers we are loosing only arround 1000 entries which is acceptable here for getting beter results for our model."
   ]
  },
  {
   "cell_type": "markdown",
   "id": "2e037f0b",
   "metadata": {},
   "source": [
    "# Visualization"
   ]
  },
  {
   "cell_type": "markdown",
   "id": "406e2430",
   "metadata": {},
   "source": [
    "# Plotting histograms for word count and character count again after removing the outliers"
   ]
  },
  {
   "cell_type": "code",
   "execution_count": 38,
   "id": "360ab880",
   "metadata": {},
   "outputs": [
    {
     "name": "stderr",
     "output_type": "stream",
     "text": [
      "/Users/apple/opt/anaconda3/lib/python3.8/site-packages/seaborn/distributions.py:2557: FutureWarning: `distplot` is a deprecated function and will be removed in a future version. Please adapt your code to use either `displot` (a figure-level function with similar flexibility) or `histplot` (an axes-level function for histograms).\n",
      "  warnings.warn(msg, FutureWarning)\n"
     ]
    },
    {
     "data": {
      "image/png": "[encoded data removed]",
      "text/plain": [
       "<Figure size 720x504 with 1 Axes>"
      ]
     },
     "metadata": {
      "needs_background": "light"
     },
     "output_type": "display_data"
    }
   ],
   "source": [
    "# Density plot and histogram of all word count\n",
    "plt.figure(figsize=(10,7))\n",
    "sns.distplot(df['Review_WC'], hist = True, kde = True,\n",
    "            bins = int(180/5), color = 'darkblue',\n",
    "            hist_kws = {'edgecolor':'black'},\n",
    "            kde_kws = {'linewidth':4})\n",
    "plt.show()"
   ]
  },
  {
   "cell_type": "markdown",
   "id": "0b52fa9e",
   "metadata": {},
   "source": [
    "In the above histogram+distribution plot we can see that number and density for short word reviews are greater than the one's with lengthy detailed information."
   ]
  },
  {
   "cell_type": "code",
   "execution_count": 39,
   "id": "5ef6f5f9",
   "metadata": {},
   "outputs": [
    {
     "name": "stderr",
     "output_type": "stream",
     "text": [
      "/Users/apple/opt/anaconda3/lib/python3.8/site-packages/seaborn/distributions.py:2557: FutureWarning: `distplot` is a deprecated function and will be removed in a future version. Please adapt your code to use either `displot` (a figure-level function with similar flexibility) or `histplot` (an axes-level function for histograms).\n",
      "  warnings.warn(msg, FutureWarning)\n"
     ]
    },
    {
     "data": {
      "image/png": "[encoded data removed]",
      "text/plain": [
       "<Figure size 720x504 with 1 Axes>"
      ]
     },
     "metadata": {
      "needs_background": "light"
     },
     "output_type": "display_data"
    }
   ],
   "source": [
    "# Density plot and histogram of all character count\n",
    "plt.figure(figsize=(10,7))\n",
    "sns.distplot(df['Review_CC'], hist = True, kde = True,\n",
    "            bins = int(180/5), color = 'darkblue',\n",
    "            hist_kws = {'edgecolor':'black'},\n",
    "            kde_kws = {'linewidth':4})\n",
    "plt.show()"
   ]
  },
  {
   "cell_type": "markdown",
   "id": "a414358e",
   "metadata": {},
   "source": [
    "In the above histogram+distribution plot we can see that the character details are automatically similar to the word count details and very few people go to the lengths of typing summarized review comments."
   ]
  },
  {
   "cell_type": "code",
   "execution_count": 40,
   "id": "0f6fc205",
   "metadata": {},
   "outputs": [
    {
     "data": {
      "image/png": "[encoded data removed]",
      "text/plain": [
       "<Figure size 720x576 with 1 Axes>"
      ]
     },
     "metadata": {
      "needs_background": "light"
     },
     "output_type": "display_data"
    }
   ],
   "source": [
    "# Checking the ratings column details using count plot\n",
    "x = 'Ratings'\n",
    "fig, ax = plt.subplots(1,1,figsize=(10,8))\n",
    "sns.countplot(x=x,data=df,ax=ax)\n",
    "p=0\n",
    "for i in ax.patches:\n",
    "    q = i.get_height()/2\n",
    "    val = i.get_height()\n",
    "    ratio = round(val*100/len(df),2)\n",
    "    prn = f\"{val}\\n({ratio}%)\"\n",
    "    ax.text(p,q,prn,ha=\"center\",color=\"white\",rotation=0,fontweight=\"bold\",fontsize=\"13\")\n",
    "    p += 1\n",
    "    \n",
    "plt.title(\"Count Plot: rating\")\n",
    "plt.show()"
   ]
  },
  {
   "cell_type": "markdown",
   "id": "7f111ca7",
   "metadata": {},
   "source": [
    "Observation:\n",
    "\n",
    "1)We can see that the highest number of customer rating received are for 5 stars\n",
    "2)Then we have 4 star rating reviews present in our dataset\n",
    "3)However we see a high 1 star rating as well compared to 2 and 3 star rating reviews"
   ]
  },
  {
   "cell_type": "code",
   "execution_count": 41,
   "id": "2ac61f40",
   "metadata": {},
   "outputs": [
    {
     "name": "stderr",
     "output_type": "stream",
     "text": [
      "/Users/apple/opt/anaconda3/lib/python3.8/site-packages/seaborn/distributions.py:2557: FutureWarning: `distplot` is a deprecated function and will be removed in a future version. Please adapt your code to use either `displot` (a figure-level function with similar flexibility) or `histplot` (an axes-level function for histograms).\n",
      "  warnings.warn(msg, FutureWarning)\n",
      "/Users/apple/opt/anaconda3/lib/python3.8/site-packages/seaborn/distributions.py:2557: FutureWarning: `distplot` is a deprecated function and will be removed in a future version. Please adapt your code to use either `displot` (a figure-level function with similar flexibility) or `histplot` (an axes-level function for histograms).\n",
      "  warnings.warn(msg, FutureWarning)\n",
      "/Users/apple/opt/anaconda3/lib/python3.8/site-packages/seaborn/distributions.py:2557: FutureWarning: `distplot` is a deprecated function and will be removed in a future version. Please adapt your code to use either `displot` (a figure-level function with similar flexibility) or `histplot` (an axes-level function for histograms).\n",
      "  warnings.warn(msg, FutureWarning)\n",
      "/Users/apple/opt/anaconda3/lib/python3.8/site-packages/seaborn/distributions.py:2557: FutureWarning: `distplot` is a deprecated function and will be removed in a future version. Please adapt your code to use either `displot` (a figure-level function with similar flexibility) or `histplot` (an axes-level function for histograms).\n",
      "  warnings.warn(msg, FutureWarning)\n",
      "/Users/apple/opt/anaconda3/lib/python3.8/site-packages/seaborn/distributions.py:2557: FutureWarning: `distplot` is a deprecated function and will be removed in a future version. Please adapt your code to use either `displot` (a figure-level function with similar flexibility) or `histplot` (an axes-level function for histograms).\n",
      "  warnings.warn(msg, FutureWarning)\n"
     ]
    },
    {
     "data": {
      "image/png": "[encoded data removed]",
      "text/plain": [
       "<Figure size 1440x720 with 5 Axes>"
      ]
     },
     "metadata": {
      "needs_background": "light"
     },
     "output_type": "display_data"
    }
   ],
   "source": [
    "# Checking review word count distribution for each rating\n",
    "ratings = np.sort(df.Ratings.unique())\n",
    "cols = 3\n",
    "rows = len(ratings)//cols\n",
    "if rows % cols != 0:\n",
    "    rows += 1\n",
    "    \n",
    "fig = plt.figure(figsize=(20,10))\n",
    "plt.subplots_adjust(hspace=0.3, wspace=0.2)\n",
    "p = 1\n",
    "colors = [(1,0,0,1),(0.6,0.2,0,1),(0.4,0.5,0,1),(0.2,0.7,0,1),(0,1,0.1,1)]\n",
    "for i in ratings:\n",
    "    axis = fig.add_subplot(rows,cols,p)\n",
    "    sns.distplot(df.Review_WC[df.Ratings==i], ax=axis, label=f\"For Rating: {i}\", color=colors[i-1])\n",
    "    axis.set_xlabel(f\"Review Word Count\")\n",
    "    axis.legend()\n",
    "    p += 1\n",
    "    \n",
    "plt.show()\n"
   ]
  },
  {
   "cell_type": "markdown",
   "id": "4f2a778e",
   "metadata": {},
   "source": [
    "Observation: The above word count histogram+distributions for each and every rating shows that when people are disappointed with a service they tend to mention a discriptive review as compared to when they are happy they use lesser words to express the joy of having got a great product."
   ]
  },
  {
   "cell_type": "code",
   "execution_count": 42,
   "id": "edcde9f8",
   "metadata": {},
   "outputs": [
    {
     "name": "stderr",
     "output_type": "stream",
     "text": [
      "/Users/apple/opt/anaconda3/lib/python3.8/site-packages/seaborn/distributions.py:2557: FutureWarning: `distplot` is a deprecated function and will be removed in a future version. Please adapt your code to use either `displot` (a figure-level function with similar flexibility) or `histplot` (an axes-level function for histograms).\n",
      "  warnings.warn(msg, FutureWarning)\n",
      "/Users/apple/opt/anaconda3/lib/python3.8/site-packages/seaborn/distributions.py:2557: FutureWarning: `distplot` is a deprecated function and will be removed in a future version. Please adapt your code to use either `displot` (a figure-level function with similar flexibility) or `histplot` (an axes-level function for histograms).\n",
      "  warnings.warn(msg, FutureWarning)\n",
      "/Users/apple/opt/anaconda3/lib/python3.8/site-packages/seaborn/distributions.py:2557: FutureWarning: `distplot` is a deprecated function and will be removed in a future version. Please adapt your code to use either `displot` (a figure-level function with similar flexibility) or `histplot` (an axes-level function for histograms).\n",
      "  warnings.warn(msg, FutureWarning)\n",
      "/Users/apple/opt/anaconda3/lib/python3.8/site-packages/seaborn/distributions.py:2557: FutureWarning: `distplot` is a deprecated function and will be removed in a future version. Please adapt your code to use either `displot` (a figure-level function with similar flexibility) or `histplot` (an axes-level function for histograms).\n",
      "  warnings.warn(msg, FutureWarning)\n",
      "/Users/apple/opt/anaconda3/lib/python3.8/site-packages/seaborn/distributions.py:2557: FutureWarning: `distplot` is a deprecated function and will be removed in a future version. Please adapt your code to use either `displot` (a figure-level function with similar flexibility) or `histplot` (an axes-level function for histograms).\n",
      "  warnings.warn(msg, FutureWarning)\n"
     ]
    },
    {
     "data": {
      "image/png": "[encoded data removed]",
      "text/plain": [
       "<Figure size 1440x720 with 5 Axes>"
      ]
     },
     "metadata": {
      "needs_background": "light"
     },
     "output_type": "display_data"
    }
   ],
   "source": [
    "# Checking review character count distribution for each rating\n",
    "ratings = np.sort(df.Ratings.unique())\n",
    "cols = 3\n",
    "rows = len(ratings)//cols\n",
    "if rows % cols != 0:\n",
    "    rows += 1\n",
    "    \n",
    "fig = plt.figure(figsize=(20,10))\n",
    "plt.subplots_adjust(hspace=0.3, wspace=0.2)\n",
    "p = 1\n",
    "colors = [(1,0,0,1),(0.6,0.2,0,1),(0.4,0.5,0,1),(0.2,0.7,0,1),(0,1,0.1,1)]\n",
    "for i in ratings:\n",
    "    axis = fig.add_subplot(rows,cols,p)\n",
    "    sns.distplot(df.Review_CC[df.Ratings==i], ax=axis, label=f\"For Rating: {i}\", color=colors[i-1])\n",
    "    axis.set_xlabel(f\"Review Character Count\")\n",
    "    axis.legend()\n",
    "    p += 1\n",
    "    \n",
    "plt.show()\n"
   ]
  },
  {
   "cell_type": "markdown",
   "id": "9f3a19dc",
   "metadata": {},
   "source": [
    "Observation: Just as in the case of word count histogram+distribution plots the pattern is quite evident that Rating 5 reviews have lesser character counts on their comments when compared to the lower rating details."
   ]
  },
  {
   "cell_type": "code",
   "execution_count": 43,
   "id": "57f4c3d3",
   "metadata": {},
   "outputs": [
    {
     "name": "stdout",
     "output_type": "stream",
     "text": [
      "5    26839\n",
      "4    13711\n",
      "1    10316\n",
      "3     9039\n",
      "2     7356\n",
      "Name: Ratings, dtype: int64\n"
     ]
    },
    {
     "name": "stderr",
     "output_type": "stream",
     "text": [
      "/Users/apple/opt/anaconda3/lib/python3.8/site-packages/seaborn/_decorators.py:36: FutureWarning: Pass the following variable as a keyword arg: x. From version 0.12, the only valid positional argument will be `data`, and passing other arguments without an explicit keyword will result in an error or misinterpretation.\n",
      "  warnings.warn(\n"
     ]
    },
    {
     "data": {
      "image/png": "[encoded data removed]",
      "text/plain": [
       "<Figure size 1080x504 with 1 Axes>"
      ]
     },
     "metadata": {
      "needs_background": "light"
     },
     "output_type": "display_data"
    }
   ],
   "source": [
    "# Checking the count of target column values\n",
    "plt.figure(figsize=(15,7))\n",
    "sns.countplot(df['Ratings'])\n",
    "print(df.Ratings.value_counts())\n",
    "plt.show()"
   ]
  },
  {
   "cell_type": "markdown",
   "id": "78392fa3",
   "metadata": {},
   "source": [
    "Observation:\n",
    "\n",
    "Looking at the above count plot for our target varible (Ratings) we can say that the data set is having most number of reviews rated as 5 star and very less number of reviews rated as 2 star.\n",
    "Which will cause the Imbalance problem for our Machine Learning model and make it bias.\n",
    "So I am selecting equal number of reviews of each rating as a input for our model to avoid any kind of biasness\n",
    "For that first I will shuffle the dataset so that we can select data from both web-sites (Amazon and Flipkart)\n",
    "Then I will select equal number of data of every category and ensure that the rating values are balanced"
   ]
  },
  {
   "cell_type": "code",
   "execution_count": 44,
   "id": "88fa7cc8",
   "metadata": {},
   "outputs": [
    {
     "data": {
      "text/html": [
       "<div>\n",
       "<style scoped>\n",
       "    .dataframe tbody tr th:only-of-type {\n",
       "        vertical-align: middle;\n",
       "    }\n",
       "\n",
       "    .dataframe tbody tr th {\n",
       "        vertical-align: top;\n",
       "    }\n",
       "\n",
       "    .dataframe thead th {\n",
       "        text-align: right;\n",
       "    }\n",
       "</style>\n",
       "<table border=\"1\" class=\"dataframe\">\n",
       "  <thead>\n",
       "    <tr style=\"text-align: right;\">\n",
       "      <th></th>\n",
       "      <th>Review_title</th>\n",
       "      <th>Review_text</th>\n",
       "      <th>Ratings</th>\n",
       "      <th>Review</th>\n",
       "      <th>Review_WC</th>\n",
       "      <th>Review_CC</th>\n",
       "    </tr>\n",
       "  </thead>\n",
       "  <tbody>\n",
       "    <tr>\n",
       "      <th>0</th>\n",
       "      <td>Wonderful</td>\n",
       "      <td>Nice product</td>\n",
       "      <td>5</td>\n",
       "      <td>wonderful nice product</td>\n",
       "      <td>3</td>\n",
       "      <td>22</td>\n",
       "    </tr>\n",
       "    <tr>\n",
       "      <th>1</th>\n",
       "      <td>Excellent</td>\n",
       "      <td>\\n  Worth a money\\n</td>\n",
       "      <td>5</td>\n",
       "      <td>excellent worth money</td>\n",
       "      <td>3</td>\n",
       "      <td>21</td>\n",
       "    </tr>\n",
       "    <tr>\n",
       "      <th>2</th>\n",
       "      <td>very inaccurate measurement and disappointing</td>\n",
       "      <td>\\n  step count is very inaccurate.......despit...</td>\n",
       "      <td>2</td>\n",
       "      <td>inaccurate measurement disappointing step coun...</td>\n",
       "      <td>15</td>\n",
       "      <td>128</td>\n",
       "    </tr>\n",
       "    <tr>\n",
       "      <th>3</th>\n",
       "      <td>Great product</td>\n",
       "      <td>Camera is really awesome</td>\n",
       "      <td>5</td>\n",
       "      <td>great product camera really awesome</td>\n",
       "      <td>5</td>\n",
       "      <td>35</td>\n",
       "    </tr>\n",
       "    <tr>\n",
       "      <th>4</th>\n",
       "      <td>Good choice</td>\n",
       "      <td>It is a decent budgeted smart phone and main p...</td>\n",
       "      <td>4</td>\n",
       "      <td>good choice decent budgeted smart phone main p...</td>\n",
       "      <td>33</td>\n",
       "      <td>202</td>\n",
       "    </tr>\n",
       "    <tr>\n",
       "      <th>...</th>\n",
       "      <td>...</td>\n",
       "      <td>...</td>\n",
       "      <td>...</td>\n",
       "      <td>...</td>\n",
       "      <td>...</td>\n",
       "      <td>...</td>\n",
       "    </tr>\n",
       "    <tr>\n",
       "      <th>67256</th>\n",
       "      <td>Don't buy it.</td>\n",
       "      <td>\\n  I had given a good review earlier but 40 d...</td>\n",
       "      <td>5</td>\n",
       "      <td>buy given good review earlier  days later diff...</td>\n",
       "      <td>38</td>\n",
       "      <td>253</td>\n",
       "    </tr>\n",
       "    <tr>\n",
       "      <th>67257</th>\n",
       "      <td>Not so good</td>\n",
       "      <td>\\n  - Rotating button has no function.&lt;br&gt;- Ha...</td>\n",
       "      <td>3</td>\n",
       "      <td>good rotating button function hand twist wake ...</td>\n",
       "      <td>24</td>\n",
       "      <td>146</td>\n",
       "    </tr>\n",
       "    <tr>\n",
       "      <th>67258</th>\n",
       "      <td>Wonderful</td>\n",
       "      <td>Good product 👍👍👍</td>\n",
       "      <td>5</td>\n",
       "      <td>wonderful good product</td>\n",
       "      <td>3</td>\n",
       "      <td>22</td>\n",
       "    </tr>\n",
       "    <tr>\n",
       "      <th>67259</th>\n",
       "      <td>Pure Sound</td>\n",
       "      <td>\\n  Writing it after using 2 days.&lt;br&gt;Pretty s...</td>\n",
       "      <td>5</td>\n",
       "      <td>pure sound writing using  days pretty satisfie...</td>\n",
       "      <td>26</td>\n",
       "      <td>162</td>\n",
       "    </tr>\n",
       "    <tr>\n",
       "      <th>67260</th>\n",
       "      <td>The app does not track cycling activities and ...</td>\n",
       "      <td>\\n  &amp;nbsp;I did not like the app and the outdo...</td>\n",
       "      <td>2</td>\n",
       "      <td>app track cycling activities run properly outd...</td>\n",
       "      <td>14</td>\n",
       "      <td>93</td>\n",
       "    </tr>\n",
       "  </tbody>\n",
       "</table>\n",
       "<p>67261 rows × 6 columns</p>\n",
       "</div>"
      ],
      "text/plain": [
       "                                            Review_title  \\\n",
       "0                                              Wonderful   \n",
       "1                                              Excellent   \n",
       "2          very inaccurate measurement and disappointing   \n",
       "3                                          Great product   \n",
       "4                                            Good choice   \n",
       "...                                                  ...   \n",
       "67256                                      Don't buy it.   \n",
       "67257                                        Not so good   \n",
       "67258                                          Wonderful   \n",
       "67259                                         Pure Sound   \n",
       "67260  The app does not track cycling activities and ...   \n",
       "\n",
       "                                             Review_text  Ratings  \\\n",
       "0                                           Nice product        5   \n",
       "1                                    \\n  Worth a money\\n        5   \n",
       "2      \\n  step count is very inaccurate.......despit...        2   \n",
       "3                               Camera is really awesome        5   \n",
       "4      It is a decent budgeted smart phone and main p...        4   \n",
       "...                                                  ...      ...   \n",
       "67256  \\n  I had given a good review earlier but 40 d...        5   \n",
       "67257  \\n  - Rotating button has no function.<br>- Ha...        3   \n",
       "67258                                   Good product 👍👍👍        5   \n",
       "67259  \\n  Writing it after using 2 days.<br>Pretty s...        5   \n",
       "67260  \\n  &nbsp;I did not like the app and the outdo...        2   \n",
       "\n",
       "                                                  Review  Review_WC  Review_CC  \n",
       "0                                 wonderful nice product          3         22  \n",
       "1                                  excellent worth money          3         21  \n",
       "2      inaccurate measurement disappointing step coun...         15        128  \n",
       "3                    great product camera really awesome          5         35  \n",
       "4      good choice decent budgeted smart phone main p...         33        202  \n",
       "...                                                  ...        ...        ...  \n",
       "67256  buy given good review earlier  days later diff...         38        253  \n",
       "67257  good rotating button function hand twist wake ...         24        146  \n",
       "67258                             wonderful good product          3         22  \n",
       "67259  pure sound writing using  days pretty satisfie...         26        162  \n",
       "67260  app track cycling activities run properly outd...         14         93  \n",
       "\n",
       "[67261 rows x 6 columns]"
      ]
     },
     "execution_count": 44,
     "metadata": {},
     "output_type": "execute_result"
    }
   ],
   "source": [
    "# shuffling the entire data set\n",
    "df = df.sample(frac=1).reset_index(drop=True)\n",
    "df"
   ]
  },
  {
   "cell_type": "code",
   "execution_count": 45,
   "id": "2a2fd2c1",
   "metadata": {},
   "outputs": [
    {
     "data": {
      "text/html": [
       "<div>\n",
       "<style scoped>\n",
       "    .dataframe tbody tr th:only-of-type {\n",
       "        vertical-align: middle;\n",
       "    }\n",
       "\n",
       "    .dataframe tbody tr th {\n",
       "        vertical-align: top;\n",
       "    }\n",
       "\n",
       "    .dataframe thead th {\n",
       "        text-align: right;\n",
       "    }\n",
       "</style>\n",
       "<table border=\"1\" class=\"dataframe\">\n",
       "  <thead>\n",
       "    <tr style=\"text-align: right;\">\n",
       "      <th></th>\n",
       "      <th>Review_title</th>\n",
       "      <th>Review_text</th>\n",
       "      <th>Ratings</th>\n",
       "      <th>Review</th>\n",
       "      <th>Review_WC</th>\n",
       "      <th>Review_CC</th>\n",
       "    </tr>\n",
       "  </thead>\n",
       "  <tbody>\n",
       "    <tr>\n",
       "      <th>0</th>\n",
       "      <td>Not good</td>\n",
       "      <td>\\n  I am not good\\n</td>\n",
       "      <td>2</td>\n",
       "      <td>good good</td>\n",
       "      <td>2</td>\n",
       "      <td>9</td>\n",
       "    </tr>\n",
       "    <tr>\n",
       "      <th>1</th>\n",
       "      <td>don't go for it</td>\n",
       "      <td>\\n  &amp;nbsp;Dislike don't go for it the plastic ...</td>\n",
       "      <td>1</td>\n",
       "      <td>go nbspdislike go plastic light get broke easi...</td>\n",
       "      <td>20</td>\n",
       "      <td>124</td>\n",
       "    </tr>\n",
       "    <tr>\n",
       "      <th>2</th>\n",
       "      <td>Nice</td>\n",
       "      <td>I like this screen but left side screen are do...</td>\n",
       "      <td>3</td>\n",
       "      <td>nice like screen left side screen right side s...</td>\n",
       "      <td>9</td>\n",
       "      <td>51</td>\n",
       "    </tr>\n",
       "    <tr>\n",
       "      <th>3</th>\n",
       "      <td>Very poor</td>\n",
       "      <td>Only one day use...Dont buy this mobile\\nWhile...</td>\n",
       "      <td>1</td>\n",
       "      <td>poor one day usedont buy mobile outgoing call ...</td>\n",
       "      <td>20</td>\n",
       "      <td>124</td>\n",
       "    </tr>\n",
       "    <tr>\n",
       "      <th>4</th>\n",
       "      <td>Perfect product!</td>\n",
       "      <td>Product was Too good and value for money🥳✅</td>\n",
       "      <td>5</td>\n",
       "      <td>perfect product product good value money</td>\n",
       "      <td>6</td>\n",
       "      <td>40</td>\n",
       "    </tr>\n",
       "    <tr>\n",
       "      <th>...</th>\n",
       "      <td>...</td>\n",
       "      <td>...</td>\n",
       "      <td>...</td>\n",
       "      <td>...</td>\n",
       "      <td>...</td>\n",
       "      <td>...</td>\n",
       "    </tr>\n",
       "    <tr>\n",
       "      <th>36775</th>\n",
       "      <td>Low sound</td>\n",
       "      <td>\\n  Very bad sound quality, cannot be describe...</td>\n",
       "      <td>1</td>\n",
       "      <td>low sound bad sound quality cannot described e...</td>\n",
       "      <td>9</td>\n",
       "      <td>58</td>\n",
       "    </tr>\n",
       "    <tr>\n",
       "      <th>36776</th>\n",
       "      <td>Hated it!</td>\n",
       "      <td>Flipkart is very very very worst online shoppi...</td>\n",
       "      <td>1</td>\n",
       "      <td>hated flipkart worst online shopping purchasin...</td>\n",
       "      <td>18</td>\n",
       "      <td>135</td>\n",
       "    </tr>\n",
       "    <tr>\n",
       "      <th>36777</th>\n",
       "      <td>Waste.appario shop</td>\n",
       "      <td>\\n  &amp;nbsp;Don't buy this product on apporio re...</td>\n",
       "      <td>1</td>\n",
       "      <td>wasteappario shop nbspdo buy product apporio r...</td>\n",
       "      <td>14</td>\n",
       "      <td>97</td>\n",
       "    </tr>\n",
       "    <tr>\n",
       "      <th>36778</th>\n",
       "      <td>Best in the market!</td>\n",
       "      <td>Awesome product</td>\n",
       "      <td>5</td>\n",
       "      <td>best market awesome product</td>\n",
       "      <td>4</td>\n",
       "      <td>27</td>\n",
       "    </tr>\n",
       "    <tr>\n",
       "      <th>36779</th>\n",
       "      <td>Boltt ring</td>\n",
       "      <td>\\n  &amp;nbsp;I have been using this Boltt ring wa...</td>\n",
       "      <td>5</td>\n",
       "      <td>boltt ring nbspi using boltt ring watch past  ...</td>\n",
       "      <td>59</td>\n",
       "      <td>363</td>\n",
       "    </tr>\n",
       "  </tbody>\n",
       "</table>\n",
       "<p>36780 rows × 6 columns</p>\n",
       "</div>"
      ],
      "text/plain": [
       "              Review_title                                        Review_text  \\\n",
       "0                 Not good                                \\n  I am not good\\n   \n",
       "1          don't go for it  \\n  &nbsp;Dislike don't go for it the plastic ...   \n",
       "2                     Nice  I like this screen but left side screen are do...   \n",
       "3                Very poor  Only one day use...Dont buy this mobile\\nWhile...   \n",
       "4         Perfect product!         Product was Too good and value for money🥳✅   \n",
       "...                    ...                                                ...   \n",
       "36775            Low sound  \\n  Very bad sound quality, cannot be describe...   \n",
       "36776            Hated it!  Flipkart is very very very worst online shoppi...   \n",
       "36777   Waste.appario shop  \\n  &nbsp;Don't buy this product on apporio re...   \n",
       "36778  Best in the market!                                    Awesome product   \n",
       "36779           Boltt ring  \\n  &nbsp;I have been using this Boltt ring wa...   \n",
       "\n",
       "       Ratings                                             Review  Review_WC  \\\n",
       "0            2                                          good good          2   \n",
       "1            1  go nbspdislike go plastic light get broke easi...         20   \n",
       "2            3  nice like screen left side screen right side s...          9   \n",
       "3            1  poor one day usedont buy mobile outgoing call ...         20   \n",
       "4            5           perfect product product good value money          6   \n",
       "...        ...                                                ...        ...   \n",
       "36775        1  low sound bad sound quality cannot described e...          9   \n",
       "36776        1  hated flipkart worst online shopping purchasin...         18   \n",
       "36777        1  wasteappario shop nbspdo buy product apporio r...         14   \n",
       "36778        5                        best market awesome product          4   \n",
       "36779        5  boltt ring nbspi using boltt ring watch past  ...         59   \n",
       "\n",
       "       Review_CC  \n",
       "0              9  \n",
       "1            124  \n",
       "2             51  \n",
       "3            124  \n",
       "4             40  \n",
       "...          ...  \n",
       "36775         58  \n",
       "36776        135  \n",
       "36777         97  \n",
       "36778         27  \n",
       "36779        363  \n",
       "\n",
       "[36780 rows x 6 columns]"
      ]
     },
     "execution_count": 45,
     "metadata": {},
     "output_type": "execute_result"
    }
   ],
   "source": [
    "# Select data from every Ratings category\n",
    "df1 = df[df['Ratings']==1][0:7356]\n",
    "df2 = df[df['Ratings']==2][0:7356]\n",
    "df3 = df[df['Ratings']==3][0:7356]\n",
    "df4 = df[df['Ratings']==4][0:7356]\n",
    "df5 = df[df['Ratings']==5][0:7356]\n",
    "\n",
    "# Combining all the dataframes into one and shuffling them again\n",
    "df = pd.concat([df1,df2,df3,df4,df5], ignore_index=True)\n",
    "df = df.sample(frac=1).reset_index(drop=True)\n",
    "df"
   ]
  },
  {
   "cell_type": "code",
   "execution_count": 46,
   "id": "3465e3e9",
   "metadata": {},
   "outputs": [
    {
     "name": "stderr",
     "output_type": "stream",
     "text": [
      "/Users/apple/opt/anaconda3/lib/python3.8/site-packages/seaborn/_decorators.py:36: FutureWarning: Pass the following variable as a keyword arg: x. From version 0.12, the only valid positional argument will be `data`, and passing other arguments without an explicit keyword will result in an error or misinterpretation.\n",
      "  warnings.warn(\n"
     ]
    },
    {
     "name": "stdout",
     "output_type": "stream",
     "text": [
      "1    7356\n",
      "2    7356\n",
      "3    7356\n",
      "4    7356\n",
      "5    7356\n",
      "Name: Ratings, dtype: int64\n"
     ]
    },
    {
     "data": {
      "image/png": "[encoded data removed]",
      "text/plain": [
       "<Figure size 1080x504 with 1 Axes>"
      ]
     },
     "metadata": {
      "needs_background": "light"
     },
     "output_type": "display_data"
    }
   ],
   "source": [
    "# lets Check the count of target column again to confirm the balance with a visual\n",
    "plt.figure(figsize=(15,7))\n",
    "sns.countplot(df['Ratings'])\n",
    "print(df.Ratings.value_counts())\n",
    "plt.show()"
   ]
  },
  {
   "cell_type": "markdown",
   "id": "d28b3fa6",
   "metadata": {},
   "source": [
    "we have balanced our data successfully.\n",
    "\n"
   ]
  },
  {
   "cell_type": "markdown",
   "id": "34a8290b",
   "metadata": {},
   "source": [
    "# Top 30 most frequently occuring words\n"
   ]
  },
  {
   "cell_type": "code",
   "execution_count": 47,
   "id": "bba4560c",
   "metadata": {},
   "outputs": [
    {
     "data": {
      "image/png": "[encoded data removed]",
      "text/plain": [
       "<Figure size 1080x720 with 1 Axes>"
      ]
     },
     "metadata": {
      "needs_background": "light"
     },
     "output_type": "display_data"
    }
   ],
   "source": [
    "# Function to plot most frequent terms in our Review column\n",
    "def freq_words(x, terms=30):\n",
    "    all_words = ' '.join([text for text in x])\n",
    "    all_words = all_words.split()\n",
    "    fdist = FreqDist(all_words)\n",
    "    words_df = pd.DataFrame({'word':list(fdist.keys()),\n",
    "                             'count':list(fdist.values())})\n",
    "    # selecting top 30 most frequent words\n",
    "    dt = words_df.nlargest(columns='count', n=terms)\n",
    "    plt.figure(figsize=(15,10))\n",
    "    ax = sns.barplot(data=dt, x='count', y='word')\n",
    "    ax.set(ylabel = 'Word')\n",
    "    plt.show()\n",
    "    \n",
    "freq_words(df['Review'])    "
   ]
  },
  {
   "cell_type": "markdown",
   "id": "3be60a62",
   "metadata": {},
   "source": [
    "# Top 30 rarely occuring words"
   ]
  },
  {
   "cell_type": "code",
   "execution_count": 48,
   "id": "79c19319",
   "metadata": {},
   "outputs": [
    {
     "data": {
      "image/png": "[encoded data removed]",
      "text/plain": [
       "<Figure size 1080x720 with 1 Axes>"
      ]
     },
     "metadata": {
      "needs_background": "light"
     },
     "output_type": "display_data"
    }
   ],
   "source": [
    "# Function to plot least frequent terms in our Review column\n",
    "def rare_words(x, terms=30):\n",
    "    all_words = ' '.join([text for text in x])\n",
    "    all_words = all_words.split()\n",
    "    fdist = FreqDist(all_words)\n",
    "    words_df = pd.DataFrame({'word':list(fdist.keys()),\n",
    "                             'count':list(fdist.values())})\n",
    "    # selecting top 30 least freq rare words\n",
    "    dt = words_df.nsmallest(columns='count', n=terms)\n",
    "    plt.figure(figsize=(15,10))\n",
    "    ax = sns.barplot(data=dt, x='count', y='word')\n",
    "    ax.set(ylabel = 'Word')\n",
    "    plt.show()\n",
    "    \n",
    "rare_words(df['Review'])  "
   ]
  },
  {
   "cell_type": "markdown",
   "id": "a67553af",
   "metadata": {},
   "source": [
    "# Model Building and Evaluation Metrics"
   ]
  },
  {
   "cell_type": "code",
   "execution_count": 49,
   "id": "54d4a213",
   "metadata": {},
   "outputs": [],
   "source": [
    "# Separating features and labels here\n",
    "x = df['Review']\n",
    "y = df['Ratings']"
   ]
  },
  {
   "cell_type": "markdown",
   "id": "1368dee6",
   "metadata": {},
   "source": [
    "# Converting text into vectors using TfidfVectorizer"
   ]
  },
  {
   "cell_type": "code",
   "execution_count": 50,
   "id": "f5f469a6",
   "metadata": {},
   "outputs": [
    {
     "name": "stderr",
     "output_type": "stream",
     "text": [
      "/Users/apple/opt/anaconda3/lib/python3.8/site-packages/sklearn/feature_extraction/text.py:502: UserWarning: The parameter 'stop_words' will not be used since 'analyzer' != 'word'\n",
      "  warnings.warn(\"The parameter 'stop_words' will not be used\"\n"
     ]
    }
   ],
   "source": [
    "# Using the n_gram tfidf vectorizer (Word vectors)\n",
    "word_vectorizer = TfidfVectorizer(sublinear_tf = True,\n",
    "                                  strip_accents = 'unicode',\n",
    "                                  analyzer = 'word',\n",
    "                                  token_pattern = r'\\w{1,}',\n",
    "                                  stop_words = 'english',\n",
    "                                  ngram_range = (1,3),\n",
    "                                  max_features = 100000)\n",
    "word_vectorizer.fit(x)\n",
    "train_word_features = word_vectorizer.transform(x)\n",
    "\n",
    "# Character vectors\n",
    "char_vectorizer = TfidfVectorizer(sublinear_tf = True,\n",
    "                                  strip_accents = 'unicode',\n",
    "                                  analyzer = 'char',\n",
    "                                  stop_words = 'english',\n",
    "                                  ngram_range = (2,6),\n",
    "                                  max_features = 50000)\n",
    "char_vectorizer.fit(x)\n",
    "train_char_features = char_vectorizer.transform(x)\n",
    "\n",
    "# I will now combine both word vectors and character vectors as input for our model\n",
    "train_features = hstack([train_char_features, train_word_features])"
   ]
  },
  {
   "cell_type": "markdown",
   "id": "f1bddb97",
   "metadata": {},
   "source": [
    "# Splitting the data into train and test datasets"
   ]
  },
  {
   "cell_type": "code",
   "execution_count": 51,
   "id": "32541b35",
   "metadata": {},
   "outputs": [
    {
     "name": "stdout",
     "output_type": "stream",
     "text": [
      "x_train (25746, 150000)\n",
      "x_test (11034, 150000)\n",
      "y_train (25746,)\n",
      "y_test (11034,)\n"
     ]
    }
   ],
   "source": [
    "state = 42\n",
    "x_train, x_test, y_train, y_test = train_test_split(train_features, y, test_size = 0.30, random_state = state)\n",
    "\n",
    "# Lets check the shapes of traning and test data\n",
    "print(\"x_train\", x_train.shape)\n",
    "print(\"x_test\", x_test.shape)\n",
    "print(\"y_train\", y_train.shape)\n",
    "print(\"y_test\", y_test.shape)"
   ]
  },
  {
   "cell_type": "code",
   "execution_count": 52,
   "id": "f4d1c175",
   "metadata": {},
   "outputs": [],
   "source": [
    "from sklearn.svm import LinearSVC\n",
    "from sklearn.naive_bayes import MultinomialNB, GaussianNB, BernoulliNB\n",
    "from sklearn.linear_model import LogisticRegression\n",
    "from sklearn.linear_model import SGDClassifier\n",
    "from sklearn.ensemble import RandomForestClassifier, ExtraTreesClassifier\n",
    "from sklearn.tree import DecisionTreeClassifier\n",
    "\n",
    "\n",
    "\n",
    "import warnings\n",
    "warnings.simplefilter(\"ignore\")\n",
    "warnings.filterwarnings(\"ignore\")\n",
    "import joblib"
   ]
  },
  {
   "cell_type": "code",
   "execution_count": 53,
   "id": "7a67f7be",
   "metadata": {},
   "outputs": [],
   "source": [
    "# Defining the Classification Machine Learning Algorithms\n",
    "rf = RandomForestClassifier()\n",
    "lr = LogisticRegression(solver='lbfgs')\n",
    "svc = LinearSVC()\n",
    "bnb = BernoulliNB()\n",
    "mnb = MultinomialNB()\n",
    "sgd = SGDClassifier()\n",
    "\n",
    "\n",
    "\n",
    "# Creating a function to train and test the model with evaluation metrics\n",
    "def BuiltModel(model):\n",
    "    print('*'*30+model.__class__.__name__+'*'*30)\n",
    "    model.fit(x_train, y_train)\n",
    "    y_pred = model.predict(x_train)\n",
    "    pred = model.predict(x_test)\n",
    "    accuracy = accuracy_score(y_test, pred)*100\n",
    "    print(f\"ACCURACY SCORE PERCENTAGE:\", accuracy)\n",
    "    # Confusion matrix and Classification report\n",
    "    print(f\"CLASSIFICATION REPORT: \\n {classification_report(y_test, pred)}\")\n",
    "    print(f\"CONFUSION MATRIX: \\n {confusion_matrix(y_test, pred)}\\n\")\n",
    "    print(\"-\"*120)\n",
    "    print(\"\\n\")"
   ]
  },
  {
   "cell_type": "code",
   "execution_count": 54,
   "id": "eef59413",
   "metadata": {},
   "outputs": [],
   "source": [
    "from scipy import stats\n",
    "from scipy.stats import zscore\n",
    "from scipy.sparse import hstack\n",
    "\n",
    "from sklearn.feature_extraction.text import TfidfVectorizer\n",
    "from sklearn.preprocessing import StandardScaler\n",
    "from sklearn.model_selection import train_test_split, GridSearchCV \n",
    "from sklearn.model_selection import cross_val_score\n",
    "from sklearn.metrics import f1_score, precision_score, confusion_matrix, accuracy_score, classification_report\n"
   ]
  },
  {
   "cell_type": "code",
   "execution_count": 63,
   "id": "6e3582e9",
   "metadata": {},
   "outputs": [
    {
     "name": "stdout",
     "output_type": "stream",
     "text": [
      "******************************LogisticRegression******************************\n",
      "ACCURACY SCORE PERCENTAGE: 70.44589450788472\n",
      "CLASSIFICATION REPORT: \n",
      "               precision    recall  f1-score   support\n",
      "\n",
      "           1       0.74      0.76      0.75      2259\n",
      "           2       0.62      0.64      0.63      2209\n",
      "           3       0.64      0.60      0.62      2234\n",
      "           4       0.68      0.71      0.69      2137\n",
      "           5       0.86      0.81      0.83      2195\n",
      "\n",
      "    accuracy                           0.70     11034\n",
      "   macro avg       0.71      0.70      0.70     11034\n",
      "weighted avg       0.71      0.70      0.70     11034\n",
      "\n",
      "CONFUSION MATRIX: \n",
      " [[1728  341  130   50   10]\n",
      " [ 382 1406  304   98   19]\n",
      " [ 166  403 1345  265   55]\n",
      " [  52  104  254 1511  216]\n",
      " [  16   32   75  289 1783]]\n",
      "\n",
      "------------------------------------------------------------------------------------------------------------------------\n",
      "\n",
      "\n",
      "******************************LinearSVC******************************\n",
      "ACCURACY SCORE PERCENTAGE: 70.38245423237267\n",
      "CLASSIFICATION REPORT: \n",
      "               precision    recall  f1-score   support\n",
      "\n",
      "           1       0.73      0.77      0.75      2259\n",
      "           2       0.63      0.63      0.63      2209\n",
      "           3       0.64      0.62      0.63      2234\n",
      "           4       0.68      0.68      0.68      2137\n",
      "           5       0.83      0.81      0.82      2195\n",
      "\n",
      "    accuracy                           0.70     11034\n",
      "   macro avg       0.70      0.70      0.70     11034\n",
      "weighted avg       0.70      0.70      0.70     11034\n",
      "\n",
      "CONFUSION MATRIX: \n",
      " [[1735  305  141   59   19]\n",
      " [ 392 1386  293  114   24]\n",
      " [ 178  341 1396  246   73]\n",
      " [  50  122  254 1461  250]\n",
      " [  18   29   83  277 1788]]\n",
      "\n",
      "------------------------------------------------------------------------------------------------------------------------\n",
      "\n",
      "\n",
      "******************************BernoulliNB******************************\n",
      "ACCURACY SCORE PERCENTAGE: 49.85499365597244\n",
      "CLASSIFICATION REPORT: \n",
      "               precision    recall  f1-score   support\n",
      "\n",
      "           1       0.64      0.57      0.60      2259\n",
      "           2       0.53      0.40      0.46      2209\n",
      "           3       0.51      0.35      0.42      2234\n",
      "           4       0.53      0.41      0.46      2137\n",
      "           5       0.40      0.76      0.53      2195\n",
      "\n",
      "    accuracy                           0.50     11034\n",
      "   macro avg       0.52      0.50      0.49     11034\n",
      "weighted avg       0.52      0.50      0.49     11034\n",
      "\n",
      "CONFUSION MATRIX: \n",
      " [[1279  417  129   35  399]\n",
      " [ 427  889  324   78  491]\n",
      " [ 207  314  789  235  689]\n",
      " [  81   55  232  878  891]\n",
      " [  18   15   76  420 1666]]\n",
      "\n",
      "------------------------------------------------------------------------------------------------------------------------\n",
      "\n",
      "\n",
      "******************************MultinomialNB******************************\n",
      "ACCURACY SCORE PERCENTAGE: 63.24089178901578\n",
      "CLASSIFICATION REPORT: \n",
      "               precision    recall  f1-score   support\n",
      "\n",
      "           1       0.64      0.78      0.70      2259\n",
      "           2       0.60      0.45      0.52      2209\n",
      "           3       0.54      0.53      0.54      2234\n",
      "           4       0.57      0.68      0.62      2137\n",
      "           5       0.85      0.72      0.78      2195\n",
      "\n",
      "    accuracy                           0.63     11034\n",
      "   macro avg       0.64      0.63      0.63     11034\n",
      "weighted avg       0.64      0.63      0.63     11034\n",
      "\n",
      "CONFUSION MATRIX: \n",
      " [[1768  276  136   63   16]\n",
      " [ 597  998  420  173   21]\n",
      " [ 292  286 1189  389   78]\n",
      " [  99   72  342 1453  171]\n",
      " [  23   18  117  467 1570]]\n",
      "\n",
      "------------------------------------------------------------------------------------------------------------------------\n",
      "\n",
      "\n",
      "******************************SGDClassifier******************************\n",
      "ACCURACY SCORE PERCENTAGE: 69.7389885807504\n",
      "CLASSIFICATION REPORT: \n",
      "               precision    recall  f1-score   support\n",
      "\n",
      "           1       0.69      0.81      0.74      2259\n",
      "           2       0.63      0.59      0.61      2209\n",
      "           3       0.68      0.57      0.62      2234\n",
      "           4       0.67      0.69      0.68      2137\n",
      "           5       0.81      0.83      0.82      2195\n",
      "\n",
      "    accuracy                           0.70     11034\n",
      "   macro avg       0.70      0.70      0.69     11034\n",
      "weighted avg       0.70      0.70      0.69     11034\n",
      "\n",
      "CONFUSION MATRIX: \n",
      " [[1831  262   91   58   17]\n",
      " [ 507 1294  249  121   38]\n",
      " [ 231  352 1280  278   93]\n",
      " [  68  118  202 1478  271]\n",
      " [  23   28   59  273 1812]]\n",
      "\n",
      "------------------------------------------------------------------------------------------------------------------------\n",
      "\n",
      "\n"
     ]
    }
   ],
   "source": [
    "for model in [lr,svc,bnb,mnb,sgd]:\n",
    "    BuiltModel(model)"
   ]
  },
  {
   "cell_type": "markdown",
   "id": "55c00efb",
   "metadata": {},
   "source": [
    "# Cross validation score for best score models"
   ]
  },
  {
   "cell_type": "code",
   "execution_count": 65,
   "id": "cc48554c",
   "metadata": {},
   "outputs": [
    {
     "name": "stdout",
     "output_type": "stream",
     "text": [
      "******************************LogisticRegression******************************\n",
      "Cross validation score: 69.91299619358347\n",
      "\n",
      "\n",
      "******************************LinearSVC******************************\n",
      "Cross validation score: 69.72539423599783\n",
      "\n",
      "\n",
      "******************************SGDClassifier******************************\n",
      "Cross validation score: 69.33387710712343\n",
      "\n",
      "\n",
      "******************************RandomForestClassifier******************************\n",
      "Cross validation score: 69.76345840130506\n",
      "\n",
      "\n"
     ]
    }
   ],
   "source": [
    "def cross_val(model):\n",
    "    print('*'*30+model.__class__.__name__+'*'*30)\n",
    "    scores = cross_val_score(model,train_features,y, cv = 3).mean()*100\n",
    "    print(\"Cross validation score:\", scores)\n",
    "    print(\"\\n\")\n",
    "    \n",
    "for model in [lr,svc,sgd,rf]:\n",
    "    cross_val(model)    "
   ]
  },
  {
   "cell_type": "markdown",
   "id": "79cf797e",
   "metadata": {},
   "source": [
    "In the above cell we cross validated the LogisticRegression, LinearSVC, SGDClassifier and RandomForestClassifier algorithms to ensure we pick the best option that does not have any over fitting or underfitting concerns. I can see that RandomForestClassifier has produced the best outcome and we shall use it for further tuning the accuracy percentage."
   ]
  },
  {
   "cell_type": "markdown",
   "id": "6d8de36c",
   "metadata": {},
   "source": [
    "# HyperParameter Tuning"
   ]
  },
  {
   "cell_type": "code",
   "execution_count": null,
   "id": "9b2c12bb",
   "metadata": {},
   "outputs": [
    {
     "name": "stdout",
     "output_type": "stream",
     "text": [
      "Fitting 3 folds for each of 16 candidates, totalling 48 fits\n",
      "[CV 1/3] END bootstrap=True, criterion=gini, max_depth=500, n_estimators=100; total time= 3.8min\n",
      "[CV 2/3] END bootstrap=True, criterion=gini, max_depth=500, n_estimators=100; total time= 3.9min\n",
      "[CV 3/3] END bootstrap=True, criterion=gini, max_depth=500, n_estimators=100; total time= 3.8min\n",
      "[CV 1/3] END bootstrap=True, criterion=gini, max_depth=500, n_estimators=200; total time= 7.6min\n",
      "[CV 2/3] END bootstrap=True, criterion=gini, max_depth=500, n_estimators=200; total time= 7.3min\n",
      "[CV 3/3] END bootstrap=True, criterion=gini, max_depth=500, n_estimators=200; total time=12.8min\n",
      "[CV 1/3] END bootstrap=True, criterion=gini, max_depth=800, n_estimators=100; total time= 7.5min\n",
      "[CV 2/3] END bootstrap=True, criterion=gini, max_depth=800, n_estimators=100; total time= 6.5min\n",
      "[CV 3/3] END bootstrap=True, criterion=gini, max_depth=800, n_estimators=100; total time= 7.1min\n",
      "[CV 1/3] END bootstrap=True, criterion=gini, max_depth=800, n_estimators=200; total time=16.0min\n",
      "[CV 2/3] END bootstrap=True, criterion=gini, max_depth=800, n_estimators=200; total time=13.9min\n",
      "[CV 3/3] END bootstrap=True, criterion=gini, max_depth=800, n_estimators=200; total time= 8.7min\n",
      "[CV 1/3] END bootstrap=True, criterion=entropy, max_depth=500, n_estimators=100; total time= 4.1min\n",
      "[CV 2/3] END bootstrap=True, criterion=entropy, max_depth=500, n_estimators=100; total time= 3.9min\n",
      "[CV 3/3] END bootstrap=True, criterion=entropy, max_depth=500, n_estimators=100; total time= 4.0min\n",
      "[CV 1/3] END bootstrap=True, criterion=entropy, max_depth=500, n_estimators=200; total time= 8.5min\n",
      "[CV 2/3] END bootstrap=True, criterion=entropy, max_depth=500, n_estimators=200; total time= 7.8min\n",
      "[CV 3/3] END bootstrap=True, criterion=entropy, max_depth=500, n_estimators=200; total time= 7.8min\n",
      "[CV 1/3] END bootstrap=True, criterion=entropy, max_depth=800, n_estimators=100; total time= 4.0min\n",
      "[CV 2/3] END bootstrap=True, criterion=entropy, max_depth=800, n_estimators=100; total time= 3.9min\n"
     ]
    }
   ],
   "source": [
    " #Lets select the different parameters for tuning our best model (RandomForestClassifier)\n",
    "grid_params = {'n_estimators':[100,200],\n",
    "               'criterion':['gini','entropy'],\n",
    "               'max_depth': [500,800],\n",
    "               'bootstrap':[True,False]}\n",
    "\n",
    "# Train the model with given parameters using GridSearchCV\n",
    "GSCV =  GridSearchCV(rf, grid_params, cv=3, verbose=3)\n",
    "GSCV.fit(x_train, y_train)"
   ]
  },
  {
   "cell_type": "code",
   "execution_count": 56,
   "id": "1b9dd92b",
   "metadata": {},
   "outputs": [
    {
     "ename": "AttributeError",
     "evalue": "'GridSearchCV' object has no attribute 'best_params_'",
     "output_type": "error",
     "traceback": [
      "\u001b[0;31m---------------------------------------------------------------------------\u001b[0m",
      "\u001b[0;31mAttributeError\u001b[0m                            Traceback (most recent call last)",
      "\u001b[0;32m<ipython-input-56-2d9e46d2860e>\u001b[0m in \u001b[0;36m<module>\u001b[0;34m\u001b[0m\n\u001b[1;32m      1\u001b[0m \u001b[0;31m# Selecting the best parameters found by GridSearchCV\u001b[0m\u001b[0;34m\u001b[0m\u001b[0;34m\u001b[0m\u001b[0;34m\u001b[0m\u001b[0m\n\u001b[0;32m----> 2\u001b[0;31m \u001b[0mGSCV\u001b[0m\u001b[0;34m.\u001b[0m\u001b[0mbest_params_\u001b[0m\u001b[0;34m\u001b[0m\u001b[0;34m\u001b[0m\u001b[0m\n\u001b[0m",
      "\u001b[0;31mAttributeError\u001b[0m: 'GridSearchCV' object has no attribute 'best_params_'"
     ]
    }
   ],
   "source": [
    "# Selecting the best parameters found by GridSearchCV\n",
    "GSCV.best_params_"
   ]
  },
  {
   "cell_type": "code",
   "execution_count": null,
   "id": "a3e2b161",
   "metadata": {},
   "outputs": [],
   "source": [
    "# Final Model with the best chosen parameters list\n",
    "best_model = RandomForestClassifier(bootstrap=False, criterion=\"gini\", max_depth=800, n_estimators=200)\n",
    "best_model.fit(x_train,y_train) # fitting data to the best model\n",
    "pred = best_model.predict(x_test)\n",
    "accuracy = accuracy_score(y_test, pred)*100\n",
    "# Printing the accuracy score\n",
    "print(\"ACCURACY SCORE:\", accuracy)\n",
    "# Printing the classification report\n",
    "print(f\"\\nCLASSIFICATION REPORT: \\n {classification_report(y_test, pred)}\")\n",
    "# Printing the Confusion matrix\n",
    "print(f\"\\nCONFUSION MATRIX: \\n {confusion_matrix(y_test, pred)}\")"
   ]
  },
  {
   "cell_type": "code",
   "execution_count": null,
   "id": "51021424",
   "metadata": {},
   "outputs": [],
   "source": [
    "# Creating a normalized confusion matrix here\n",
    "skplt.metrics.plot_confusion_matrix(y_test, pred, normalize=True)"
   ]
  },
  {
   "cell_type": "code",
   "execution_count": null,
   "id": "6f1a3b21",
   "metadata": {},
   "outputs": [],
   "source": []
  }
 ],
 "metadata": {
  "kernelspec": {
   "display_name": "Python 3",
   "language": "python",
   "name": "python3"
  },
  "language_info": {
   "codemirror_mode": {
    "name": "ipython",
    "version": 3
   },
   "file_extension": ".py",
   "mimetype": "text/x-python",
   "name": "python",
   "nbconvert_exporter": "python",
   "pygments_lexer": "ipython3",
   "version": "3.8.8"
  }
 },
 "nbformat": 4,
 "nbformat_minor": 5
}
